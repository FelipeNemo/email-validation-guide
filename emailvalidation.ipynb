{
  "nbformat": 4,
  "nbformat_minor": 0,
  "metadata": {
    "colab": {
      "provenance": [],
      "authorship_tag": "ABX9TyOjJwZ9u5gyNRMQBuANbdE6",
      "include_colab_link": true
    },
    "kernelspec": {
      "name": "python3",
      "display_name": "Python 3"
    },
    "language_info": {
      "name": "python"
    }
  },
  "cells": [
    {
      "cell_type": "markdown",
      "metadata": {
        "id": "view-in-github",
        "colab_type": "text"
      },
      "source": [
        "<a href=\"https://colab.research.google.com/github/FelipeNemo/email-validation-guide/blob/public-e-mail-verificador/emailvalidation.ipynb\" target=\"_parent\"><img src=\"https://colab.research.google.com/assets/colab-badge.svg\" alt=\"Open In Colab\"/></a>"
      ]
    },
    {
      "cell_type": "markdown",
      "source": [
        "# **Sistema de Validação de Email para prevenção de fraude**\n",
        "\n",
        "**Autor:** Felipe Augusto Batista Mendes dos Santos\n",
        "\n"
      ],
      "metadata": {
        "id": "nczBkBffUs0L"
      }
    },
    {
      "cell_type": "markdown",
      "source": [
        "Este sistema atende à necessidade de validação de e-mails para aumentar a eficiência e a segurança das transações online, utilizando um pipeline de processamento. Ele visa usar o status de classificação de validade para a tomada de decisões.\n",
        "\n",
        "##  **Input:** Dados estruturados\n",
        "\n",
        " ##  **Output:** Status de classificação de e-mail"
      ],
      "metadata": {
        "id": "pFsnY1Va9qZr"
      }
    },
    {
      "cell_type": "markdown",
      "source": [
        "# **Verificação de Email**\n",
        "Verificação de um endereço de email existente e ativo, ou seja, válido. Um email válido pode receber mensagens de outros remetentes. São responsáveis por executar uma etapa do **PROCESSO DE VERIFICAÇÃO**, como por exemplo:\n",
        "* Verificações de sintaxe\n",
        "* Domínio\n",
        "* Registro MX\n",
        "* Catch-all\n",
        "* Ping de endereço de e-mail\n",
        "\n",
        "# **Validação de email**\n",
        "É o resultado final do processo de verificação de email. Às vezes, a validação também implica na verificação de qualquer informação adicional que vem com o e-mail do lead ou na verificação da origem desse lead.\n",
        "\n",
        "* “Não verificado” ⭕ - antes do processo de verificação.\n",
        "\n",
        "* “Válido” 🟢 - significa que um e-mail está correto e existe.\n",
        "\n",
        "* “Inválido” 🟡 -  significa que esse endereço de e-mail pode receber mensagens, mas devido a uma configuração em todo o domínio, não é possível determinar a sua validade real, assim ele é marcado como Não verificável. Esses e-mails também são conhecidos como e-mails “pegam tudo” ou “aceitam tudo”.\n",
        "\n",
        "* “Não verificável” 🔴 – significa que um endereço de e-mail não existe ou não está mais ativo.\n",
        "\n",
        "*  “Não é possível encontrar o e-mail” ⚪ - clientes potenciais com informações pessoais, como fotos ou experiência profissional etc., no entanto, não há endereço de e-mail."
      ],
      "metadata": {
        "id": "MbbML_rbPU_S"
      }
    },
    {
      "cell_type": "markdown",
      "source": [
        "# **Explicação da regra de negócio:**\n",
        "\n",
        "## **Não verificado ⭕ :**\n",
        "– 1. Ainda não entrou em nenhum processo de validação\n",
        "\n",
        "## **Não verificável 🔴 :**\n",
        "– 1. O e-mail falha na verificação de sintaxe (etapa 2).\n",
        "\n",
        "– 2. O domínio não possui um registro A válido (etapa 3).\n",
        "\n",
        "– 3. O domínio não possui registros MX válidos (etapa 4).\n",
        "\n",
        "– 4. O domínio não responde à verificação SMTP (etapa 5).\n",
        "\n",
        "## **Não é possível encontrar o e-mail ⚪ :**\n",
        "– 1. O e-mail não contém um símbolo \"@\" ou outras informações importantes estão ausentes, impedindo a verificação de sintaxe (etapa2).         \n",
        "## **Inválido 🟡 :**\n",
        "– 1. O e-mail pode receber mensagens, mas devido a uma configuração em todo o domínio (catch-all), não é possível determinar sua validade real (etapa 4).\n",
        "\n",
        "## **Válido 🟢 :**\n",
        "– 1. Sintaxe correta (etapa 2).\n",
        "\n",
        "– 2. Domínio existente possui registro A válido (etapa 3).\n",
        "\n",
        "– 3. Domínio possui registros MX válidos (etapa 4).\n",
        "\n",
        "– 4. Domínio não está configurado como catch-all (etapa 4).\n",
        "\n",
        "– 5. Domínio responde à verificação SMTP (etapa 5)."
      ],
      "metadata": {
        "id": "iSnfSp0DsTNl"
      }
    },
    {
      "cell_type": "markdown",
      "source": [
        "# **Para que verificar emails?**\n",
        "\n",
        "1.    Melhora as taxas de entrega de e-mails\n",
        "2.    Economia de tempo e despesas com e-mail marketing\n",
        "3.    Mantém a reputação do remetente elevada\n",
        "4.    Melhora a comunicação com os leads\n",
        "5.    Sinaliza possiveis ataques de fraude ao seu e-commerce\n",
        "\n",
        "\n",
        "\n",
        "\n",
        "\n",
        "\n",
        "\n",
        "\n"
      ],
      "metadata": {
        "id": "YsHwr_vuRHAi"
      }
    },
    {
      "cell_type": "markdown",
      "source": [
        "# **Como funciona um verificador de e-mail:**\n",
        "1.   Verificação de sintaxe\n",
        "2.   Verificação de jargão\n",
        "3.   Verificação de existência de domínio\n",
        "4.   Verificação de registro MX\n",
        "5.   Verificação de domínio catch-all\n",
        "6.   Autenticação SMTP (ping de endereço de e-mail)\n",
        "7.   Verificação de freemail\n",
        "\n",
        "\n"
      ],
      "metadata": {
        "id": "PuN7fpiDSVFy"
      }
    },
    {
      "cell_type": "markdown",
      "source": [
        "# **Install:**"
      ],
      "metadata": {
        "id": "3Fn8Slf3Mzuh"
      }
    },
    {
      "cell_type": "code",
      "source": [
        "!pip install dnspython requests\n"
      ],
      "metadata": {
        "colab": {
          "base_uri": "https://localhost:8080/"
        },
        "id": "wj7CPAfaM327",
        "outputId": "bc9ce2c3-2e19-49aa-c26a-59ad79edb1f2"
      },
      "execution_count": 2,
      "outputs": [
        {
          "output_type": "stream",
          "name": "stdout",
          "text": [
            "Collecting dnspython\n",
            "  Downloading dnspython-2.6.1-py3-none-any.whl.metadata (5.8 kB)\n",
            "Requirement already satisfied: requests in /usr/local/lib/python3.10/dist-packages (2.32.3)\n",
            "Requirement already satisfied: charset-normalizer<4,>=2 in /usr/local/lib/python3.10/dist-packages (from requests) (3.3.2)\n",
            "Requirement already satisfied: idna<4,>=2.5 in /usr/local/lib/python3.10/dist-packages (from requests) (3.7)\n",
            "Requirement already satisfied: urllib3<3,>=1.21.1 in /usr/local/lib/python3.10/dist-packages (from requests) (2.0.7)\n",
            "Requirement already satisfied: certifi>=2017.4.17 in /usr/local/lib/python3.10/dist-packages (from requests) (2024.7.4)\n",
            "Downloading dnspython-2.6.1-py3-none-any.whl (307 kB)\n",
            "\u001b[2K   \u001b[90m━━━━━━━━━━━━━━━━━━━━━━━━━━━━━━━━━━━━━━━━\u001b[0m \u001b[32m307.7/307.7 kB\u001b[0m \u001b[31m5.9 MB/s\u001b[0m eta \u001b[36m0:00:00\u001b[0m\n",
            "\u001b[?25hInstalling collected packages: dnspython\n",
            "Successfully installed dnspython-2.6.1\n"
          ]
        }
      ]
    },
    {
      "cell_type": "markdown",
      "source": [
        "# **Importações:**"
      ],
      "metadata": {
        "id": "hdOGPg8yKvk6"
      }
    },
    {
      "cell_type": "code",
      "source": [
        "import csv\n",
        "import dns.resolver #módulo da lib dnspython\n",
        "import smtplib\n",
        "import requests\n",
        "import pandas as pd"
      ],
      "metadata": {
        "id": "f5hbnaLUKvGN"
      },
      "execution_count": 3,
      "outputs": []
    },
    {
      "cell_type": "markdown",
      "source": [
        "# **1. Verificação de sintaxe:**\n",
        "#### **Ferramentas:**  \n",
        "\n",
        "*   Python\n",
        "\n",
        "#### **Correspondência de padrão de email:**\n",
        "\n",
        "> < local-part@domain >\n",
        "\n",
        "1. **local-part** -  Pode ter até 64 octetos de comprimento, disposição de pontos e caracteres especiais.\n",
        "\n",
        "2. **@** - Deve conter apenas 1 elemento \"@\"em todo o e-mail\n",
        "\n",
        "3. **domain** -  Pode ter no máximo 255 octetos e deve conter apenas 1 \".\"\n",
        "\n"
      ],
      "metadata": {
        "id": "VGafA2GKUBFa"
      }
    },
    {
      "cell_type": "markdown",
      "source": [
        "### **1.1 Local-part:**\n",
        "#### **Ferramentas:**\n",
        "\n",
        "*   dnspython\n",
        " **Disposição de bytes:**\n",
        "*  64 octetos de comprimento\n",
        "\n",
        "#### **Disposição geral de pontos:**\n",
        "\n",
        " Não é permitido que seja o primeiro ou o último caractere, e que também apareça consecutivamente\n",
        "\n",
        "* **Caracteres especiais:**\n",
        "\n",
        "> \"() , : ; < > @ [ \\ ]\n",
        "\n",
        "  -  São permitidos com restrições(somente dentro de uma string entre aspas e nessa string entre aspas, qualquer barra invertida ou aspas duplas deve ser precedida uma vez por uma barra invertida)\n",
        "   \n",
        "   Exemplo:\n",
        "   \n",
        "   john.smith(comment)@example.come e (comment)john.smith@example.com são ambos equivalentes a john.smith@example.com\n",
        "\n",
        "   "
      ],
      "metadata": {
        "id": "S94eeC5xu31Q"
      }
    },
    {
      "cell_type": "code",
      "source": [
        "CARACTERES_ESPECIAIS = {\"(\", \")\", \",\", \":\", \";\", \"<\", \">\", \"@\", \"[\", \"]\"}"
      ],
      "metadata": {
        "id": "wBw3YFYvne39"
      },
      "execution_count": 4,
      "outputs": []
    },
    {
      "cell_type": "code",
      "source": [
        "def local_sintax(local):\n",
        "    # Função de verificação da parte local\n",
        "    if len(local) == 0 or len(local) > 64:\n",
        "        return False\n",
        "    if local[0] == '.' or local[-1] == '.':\n",
        "        return False\n",
        "    if '..' in local:\n",
        "        return False\n",
        "    for char in local:\n",
        "        if char in CARACTERES_ESPECIAIS:\n",
        "            return False\n",
        "    return True"
      ],
      "metadata": {
        "id": "VYRg9cPXPkC7"
      },
      "execution_count": 5,
      "outputs": []
    },
    {
      "cell_type": "markdown",
      "source": [
        "### **1.2 Domain**\n",
        "#### **Ferramentas:**  \n",
        "\n",
        "*   Python\n",
        "\n",
        "#### **Disposição de bytes:**\n",
        "* 255 octetos de comprimento\n",
        "\n",
        "**Disposição geral de pontos:**\n",
        "  \n",
        "* Deve conter apenas 1 \".\" :"
      ],
      "metadata": {
        "id": "EgAN818RvGpw"
      }
    },
    {
      "cell_type": "code",
      "source": [
        "def domain_sintax(domain):\n",
        "    # Função de verificação da parte do domínio\n",
        "    if len(domain) == 0 or len(domain) > 255:\n",
        "        return False\n",
        "    if '.' not in domain:\n",
        "        return False\n",
        "    if domain[0] == '-' or domain[-1] == '-':\n",
        "        return False\n",
        "    for char in domain:\n",
        "        if char in CARACTERES_ESPECIAIS:\n",
        "            return False\n",
        "    # Verifica cada parte do domínio\n",
        "    labels = domain.split('.')\n",
        "    for label in labels:\n",
        "        if len(label) == 0 or len(label) > 63:\n",
        "            return False\n",
        "    return True"
      ],
      "metadata": {
        "id": "bsoazTRovOqX"
      },
      "execution_count": 6,
      "outputs": []
    },
    {
      "cell_type": "markdown",
      "source": [
        "### **Conclusão:**"
      ],
      "metadata": {
        "id": "rbVcG8Z3wN-v"
      }
    },
    {
      "cell_type": "code",
      "source": [
        "def verificador_sintax(email):\n",
        "    # Verifica se contém exatamente um \"@\"\n",
        "    if email.count('@') != 1:\n",
        "        print(\"Falhou: não contém exatamente um '@'\")\n",
        "        return False\n",
        "\n",
        "    local, domain = email.split('@')\n",
        "\n",
        "    # Verificação da parte local\n",
        "    if not local_sintax(local):\n",
        "        print(\"Falhou: verificação da parte local\")\n",
        "        return False\n",
        "\n",
        "    # Verificação da parte do domínio\n",
        "    if not domain_sintax(domain):\n",
        "        print(\"Falhou: verificação da parte do domínio\")\n",
        "        return False\n",
        "\n",
        "    return True"
      ],
      "metadata": {
        "id": "oFUnWbBSyGHE"
      },
      "execution_count": 7,
      "outputs": []
    },
    {
      "cell_type": "markdown",
      "source": [
        "# **2. Verificação de domínio:**\n",
        "#### **Ferramentas:**\n",
        "\n",
        "*   dnspython\n",
        "\n",
        "#### **O que é o registro A ?**\n",
        "\n",
        "Um Registro A(Address Record) é um tipo de registro DNS que mapeia um nome de domínio para um endereço IP único (IPv4).\n",
        "\n",
        " Permite que um domínio(gmail.com) seja associado a um endereço IP (147.0.2.1), que é necessário para que os navegadores da web possam encontrar o servidor correspondente na rede.\n"
      ],
      "metadata": {
        "id": "5dl0DT8JUDnU"
      }
    },
    {
      "cell_type": "code",
      "source": [
        "def check_domain_exists(domain):\n",
        "    try:\n",
        "        # Verifica registros DNS\n",
        "        dns.resolver.resolve(domain, 'A')\n",
        "        return True\n",
        "    except (dns.resolver.NXDOMAIN, dns.resolver.NoAnswer, dns.resolver.Timeout):\n",
        "        return False\n",
        "\n"
      ],
      "metadata": {
        "id": "3_AruF4GUL5v"
      },
      "execution_count": 8,
      "outputs": []
    },
    {
      "cell_type": "code",
      "source": [
        "def check_domain_active(domain):\n",
        "    try:\n",
        "        # Faz uma requisição HTTP ao domínio\n",
        "        response = requests.get(f\"http://{domain}\", timeout=10)\n",
        "        return response.status_code == 200\n",
        "    except requests.RequestException:\n",
        "        return False"
      ],
      "metadata": {
        "id": "FiUqImD21iqO"
      },
      "execution_count": 9,
      "outputs": []
    },
    {
      "cell_type": "markdown",
      "source": [
        "# **3. Verificação do registro MX:**\n",
        "#### **Ferramentas:**\n",
        "\n",
        "*   dnspython\n",
        "\n",
        "#### **O que é o registro MX?**\n",
        "\n",
        "Um MX record (Mail Exchange record) é um tipo de registro DNS (Domain Name System) que especifica qual servidor de e-mail é responsável por receber e-mails para um domínio específico.\n",
        "\n",
        " Ele funciona verificando se a entrada de troca de correio listada no endereço de e-mail é um nome de domínio real, registrado e hospedado, que pode ser acessado online.\n",
        "\n",
        "\n",
        "#### **Erros tratados:**\n",
        "\n",
        "*NoAnswer :* Não há registros MX para o domínio.\n",
        "\n",
        "*NXDOMAIN :* O domínio não existe.\n",
        "\n",
        "*Timeout :* Timeout ao consultar o domínio.\n",
        "\n",
        "*NoNameservers :* Servidores de nomes não encontrados para o domínio.\n",
        "\n",
        "*YXDOMAIN :* Nome do domínio muito longo.\n",
        "\n",
        "*NoRootSOA :* O domínio não possui uma SOA válida.\n"
      ],
      "metadata": {
        "id": "3-f8IV1aUOVc"
      }
    },
    {
      "cell_type": "code",
      "source": [
        "def get_mx_records(domain):\n",
        "    try:\n",
        "        answers = dns.resolver.resolve(domain, 'MX')\n",
        "        mx_records = sorted([(rdata.preference, str(rdata.exchange)) for rdata in answers], key=lambda x: x[0])\n",
        "        return [record[1] for record in mx_records]\n",
        "    except dns.resolver.NoAnswer:\n",
        "        print(f\"Não há registros MX para o domínio: {domain}\")\n",
        "        return None\n",
        "    except dns.resolver.NXDOMAIN:\n",
        "        print(f\"O domínio {domain} não existe.\")\n",
        "        return None\n",
        "    except dns.resolver.Timeout:\n",
        "        print(f\"Timeout ao consultar o domínio: {domain}\")\n",
        "        return None\n",
        "    except dns.resolver.NoNameservers:\n",
        "        print(f\"Os servidores de nomes não puderam ser encontrados para o domínio: {domain}\")\n",
        "        return None\n",
        "    except dns.resolver.YXDOMAIN:\n",
        "        print(f\"Nome do domínio muito longo para: {domain}\")\n",
        "        return None\n",
        "    except dns.resolver.NoRootSOA:\n",
        "        print(f\"Domínio {domain} não possui uma SOA válida.\")\n",
        "        return None\n",
        "    except dns.exception.DNSException as e:\n",
        "        print(f\"Erro ao consultar os registros MX do domínio {domain}: {e}\")\n",
        "        return None\n",
        "\n"
      ],
      "metadata": {
        "id": "TRiIoYsuUPvS"
      },
      "execution_count": 10,
      "outputs": []
    },
    {
      "cell_type": "markdown",
      "source": [
        "# **4.Verificação catch-all:**\n",
        "#### **Ferramentas:**\n",
        "\n",
        "*   dnspython\n",
        "*   smtplib\n",
        "\n",
        "#### **O que é um domínio \"catch-all\"?**\n",
        "\n",
        "É quando o email está configurado para aceitar emails enviados para qualquer endereço no domínio, mesmo que o endereço específico não exista.\n",
        "\n",
        "Assim, o domínio reconhece a diferença entre um email real (renata.pereira@gmail.com) e um email aleatório/inexistente naquele domínio (renDPokfçsnoppereira@gmail.com).\n"
      ],
      "metadata": {
        "id": "kkQ0iMFYLk_W"
      }
    },
    {
      "cell_type": "code",
      "source": [
        "def check_catch_all(domain):\n",
        "    mx_records = get_mx_records(domain)\n",
        "    if not mx_records:\n",
        "        print(f\"Não foi possível encontrar registros MX para o domínio: {domain}\")\n",
        "        return False\n",
        "    # E-mail Teste\n",
        "    test_email = f\"catchall-test-{domain}@{domain}\"\n",
        "    sender_email = \"test@example.com\"\n",
        "\n",
        "    for mx in mx_records:\n",
        "        try:\n",
        "            server = smtplib.SMTP(mx)\n",
        "            server.set_debuglevel(0)  # Defina para 1 se quiser ver a comunicação SMTP\n",
        "            server.ehlo_or_helo_if_needed()\n",
        "            server.mail(sender_email)\n",
        "            code, message = server.rcpt(test_email)\n",
        "            server.quit()\n",
        "\n",
        "            if code == 250:\n",
        "                print(f\"O domínio {domain} possui um catch-all configurado.\")\n",
        "                return True\n",
        "        except smtplib.SMTPServerDisconnected:\n",
        "            pass\n",
        "        except smtplib.SMTPConnectError:\n",
        "            pass\n",
        "        except smtplib.SMTPRecipientsRefused:\n",
        "            pass\n",
        "        except Exception as e:\n",
        "            print(f\"Erro ao verificar o domínio {domain}: {e}\")\n",
        "            return False\n",
        "\n",
        "    print(f\"O domínio {domain} não possui um catch-all configurado.\")\n",
        "    return False\n"
      ],
      "metadata": {
        "id": "Y_yzZG-CUg9x"
      },
      "execution_count": 11,
      "outputs": []
    },
    {
      "cell_type": "markdown",
      "source": [
        "# **5. Ping do endereço de e-mail:**\n",
        "#### **Ferramentas:**\n",
        "\n",
        "*   dnspython\n",
        "*   smtplib\n",
        "\n",
        "#### **O que é o SMTP?**\n",
        "\n",
        "Utilizamos a verificação do SMTP (Simple Mail Transfer Protocol), que é o método padrão para envio de emails pela internet, para enviar um ping/email-de-teste destinado ao endereço de e-mail, verificando se ele é capaz de receber mensagens e reagir a elas."
      ],
      "metadata": {
        "id": "PtsAzeNXUl09"
      }
    },
    {
      "cell_type": "code",
      "source": [
        "\n",
        "def ping_email_address(email):\n",
        "    domain = email.split('@')[1]\n",
        "    mx_records = get_mx_records(domain)\n",
        "    if not mx_records:\n",
        "        print(f\"Não foi possível encontrar registros MX para o domínio: {domain}\")\n",
        "        return False\n",
        "\n",
        "    test_email = email\n",
        "    sender_email = \"test@example.com\"  # Pode ser qualquer endereço válido\n",
        "\n",
        "    for mx in mx_records:\n",
        "        try:\n",
        "            # Conectar ao servidor SMTP\n",
        "            server = smtplib.SMTP(mx, timeout=10)\n",
        "            server.set_debuglevel(0)  # Defina para 1 se quiser ver a comunicação SMTP\n",
        "            server.helo()\n",
        "            server.mail(sender_email)\n",
        "            code, message = server.rcpt(test_email)\n",
        "            server.quit()\n",
        "\n",
        "            if code == 250:\n",
        "                print(f\"O e-mail {email} parece ser válido.\")\n",
        "                return True\n",
        "            else:\n",
        "                print(f\"O e-mail {email} não parece ser válido. Código de resposta: {code}\")\n",
        "                return False\n",
        "        except smtplib.SMTPConnectError:\n",
        "            print(f\"Erro ao conectar com o servidor de e-mail {mx}.\")\n",
        "        except Exception as e:\n",
        "            print(f\"Erro ao verificar o e-mail {email}: {e}\")\n",
        "\n",
        "    print(f\"Não foi possível verificar o e-mail {email}.\")\n",
        "    return False\n"
      ],
      "metadata": {
        "id": "omRVCNucUnIz"
      },
      "execution_count": 12,
      "outputs": []
    },
    {
      "cell_type": "markdown",
      "source": [
        "# **Atribuindo a regra de negócio:**\n"
      ],
      "metadata": {
        "id": "eOmZereA2afM"
      }
    },
    {
      "cell_type": "code",
      "source": [
        "\n",
        "def verificar_email(email):\n",
        "    status = \"Não verificado ⭕\"\n",
        "\n",
        "    if not verificador_sintax(email):\n",
        "        status = \"Não verificável 🔴\"\n",
        "        return status\n",
        "\n",
        "    domain = email.split('@')[1]\n",
        "\n",
        "    if not check_domain_exists(domain):\n",
        "        status = \"Não verificável 🔴\"\n",
        "        return status\n",
        "\n",
        "    if not check_domain_active(domain):\n",
        "        status = \"Não verificável 🔴\"\n",
        "        return status\n",
        "\n",
        "    mx_records = get_mx_records(domain)\n",
        "    if not mx_records:\n",
        "        status = \"Não verificável 🔴\"\n",
        "        return status\n",
        "\n",
        "    if check_catch_all(domain):\n",
        "        status = \"Inválido 🟡\"\n",
        "        return status\n",
        "\n",
        "    if not ping_email_address(email):\n",
        "        status = \"Não verificável 🔴\"\n",
        "        return status\n",
        "\n",
        "    status = \"Válido 🟢\"\n",
        "    return status\n"
      ],
      "metadata": {
        "id": "GqUc4iDd2pGF"
      },
      "execution_count": 13,
      "outputs": []
    },
    {
      "cell_type": "markdown",
      "source": [
        "# **Leitura de dados estruturados:**\n",
        "\n",
        "* Como exemplo, gerei e-mails falsos, por isso a validação veio com o status 'Connection unexpectedly closed'. Para testar, substitua por um arquivo com e-mails reais e faça a leitura nas células abaixo utilizando o Pandas."
      ],
      "metadata": {
        "id": "xYN2g6eh2x1z"
      }
    },
    {
      "cell_type": "code",
      "source": [
        "planilha = pd.read_csv('./dados_aleatorios.csv')\n",
        "planilha.head()"
      ],
      "metadata": {
        "colab": {
          "base_uri": "https://localhost:8080/",
          "height": 206
        },
        "id": "WjHVgYKt2uKj",
        "outputId": "f7ec8337-f9d0-4943-8134-97190b89eab4"
      },
      "execution_count": 14,
      "outputs": [
        {
          "output_type": "execute_result",
          "data": {
            "text/plain": [
              "         ID            Nome Códigos de rastreio  \\\n",
              "0  84015184  Lucas Oliveira        NVA5SR7GC4OE   \n",
              "1  83494978  Renata Pereira        C5WRXE33NSNK   \n",
              "2  36146937    Renata Costa        MEQ365ZO36PT   \n",
              "3  91738901    Felipe Silva        YFHEK9PJD0XT   \n",
              "4  95558529    Felipe Souza        FNXN6YYQJ9GW   \n",
              "\n",
              "                                              Email Estado  \n",
              "0                         lucas.oliveira@uol.com.br     ES  \n",
              "1                          renata.pereira@gmail.com     PR  \n",
              "2  renata.costa@dominio-muito-longo-de-email.com.br     PR  \n",
              "3                          felipe.silva@outlook.com     ES  \n",
              "4                          felipe.souza@outlook.com     SC  "
            ],
            "text/html": [
              "\n",
              "  <div id=\"df-bada7386-4cd0-4447-8b3d-b8169613cbeb\" class=\"colab-df-container\">\n",
              "    <div>\n",
              "<style scoped>\n",
              "    .dataframe tbody tr th:only-of-type {\n",
              "        vertical-align: middle;\n",
              "    }\n",
              "\n",
              "    .dataframe tbody tr th {\n",
              "        vertical-align: top;\n",
              "    }\n",
              "\n",
              "    .dataframe thead th {\n",
              "        text-align: right;\n",
              "    }\n",
              "</style>\n",
              "<table border=\"1\" class=\"dataframe\">\n",
              "  <thead>\n",
              "    <tr style=\"text-align: right;\">\n",
              "      <th></th>\n",
              "      <th>ID</th>\n",
              "      <th>Nome</th>\n",
              "      <th>Códigos de rastreio</th>\n",
              "      <th>Email</th>\n",
              "      <th>Estado</th>\n",
              "    </tr>\n",
              "  </thead>\n",
              "  <tbody>\n",
              "    <tr>\n",
              "      <th>0</th>\n",
              "      <td>84015184</td>\n",
              "      <td>Lucas Oliveira</td>\n",
              "      <td>NVA5SR7GC4OE</td>\n",
              "      <td>lucas.oliveira@uol.com.br</td>\n",
              "      <td>ES</td>\n",
              "    </tr>\n",
              "    <tr>\n",
              "      <th>1</th>\n",
              "      <td>83494978</td>\n",
              "      <td>Renata Pereira</td>\n",
              "      <td>C5WRXE33NSNK</td>\n",
              "      <td>renata.pereira@gmail.com</td>\n",
              "      <td>PR</td>\n",
              "    </tr>\n",
              "    <tr>\n",
              "      <th>2</th>\n",
              "      <td>36146937</td>\n",
              "      <td>Renata Costa</td>\n",
              "      <td>MEQ365ZO36PT</td>\n",
              "      <td>renata.costa@dominio-muito-longo-de-email.com.br</td>\n",
              "      <td>PR</td>\n",
              "    </tr>\n",
              "    <tr>\n",
              "      <th>3</th>\n",
              "      <td>91738901</td>\n",
              "      <td>Felipe Silva</td>\n",
              "      <td>YFHEK9PJD0XT</td>\n",
              "      <td>felipe.silva@outlook.com</td>\n",
              "      <td>ES</td>\n",
              "    </tr>\n",
              "    <tr>\n",
              "      <th>4</th>\n",
              "      <td>95558529</td>\n",
              "      <td>Felipe Souza</td>\n",
              "      <td>FNXN6YYQJ9GW</td>\n",
              "      <td>felipe.souza@outlook.com</td>\n",
              "      <td>SC</td>\n",
              "    </tr>\n",
              "  </tbody>\n",
              "</table>\n",
              "</div>\n",
              "    <div class=\"colab-df-buttons\">\n",
              "\n",
              "  <div class=\"colab-df-container\">\n",
              "    <button class=\"colab-df-convert\" onclick=\"convertToInteractive('df-bada7386-4cd0-4447-8b3d-b8169613cbeb')\"\n",
              "            title=\"Convert this dataframe to an interactive table.\"\n",
              "            style=\"display:none;\">\n",
              "\n",
              "  <svg xmlns=\"http://www.w3.org/2000/svg\" height=\"24px\" viewBox=\"0 -960 960 960\">\n",
              "    <path d=\"M120-120v-720h720v720H120Zm60-500h600v-160H180v160Zm220 220h160v-160H400v160Zm0 220h160v-160H400v160ZM180-400h160v-160H180v160Zm440 0h160v-160H620v160ZM180-180h160v-160H180v160Zm440 0h160v-160H620v160Z\"/>\n",
              "  </svg>\n",
              "    </button>\n",
              "\n",
              "  <style>\n",
              "    .colab-df-container {\n",
              "      display:flex;\n",
              "      gap: 12px;\n",
              "    }\n",
              "\n",
              "    .colab-df-convert {\n",
              "      background-color: #E8F0FE;\n",
              "      border: none;\n",
              "      border-radius: 50%;\n",
              "      cursor: pointer;\n",
              "      display: none;\n",
              "      fill: #1967D2;\n",
              "      height: 32px;\n",
              "      padding: 0 0 0 0;\n",
              "      width: 32px;\n",
              "    }\n",
              "\n",
              "    .colab-df-convert:hover {\n",
              "      background-color: #E2EBFA;\n",
              "      box-shadow: 0px 1px 2px rgba(60, 64, 67, 0.3), 0px 1px 3px 1px rgba(60, 64, 67, 0.15);\n",
              "      fill: #174EA6;\n",
              "    }\n",
              "\n",
              "    .colab-df-buttons div {\n",
              "      margin-bottom: 4px;\n",
              "    }\n",
              "\n",
              "    [theme=dark] .colab-df-convert {\n",
              "      background-color: #3B4455;\n",
              "      fill: #D2E3FC;\n",
              "    }\n",
              "\n",
              "    [theme=dark] .colab-df-convert:hover {\n",
              "      background-color: #434B5C;\n",
              "      box-shadow: 0px 1px 3px 1px rgba(0, 0, 0, 0.15);\n",
              "      filter: drop-shadow(0px 1px 2px rgba(0, 0, 0, 0.3));\n",
              "      fill: #FFFFFF;\n",
              "    }\n",
              "  </style>\n",
              "\n",
              "    <script>\n",
              "      const buttonEl =\n",
              "        document.querySelector('#df-bada7386-4cd0-4447-8b3d-b8169613cbeb button.colab-df-convert');\n",
              "      buttonEl.style.display =\n",
              "        google.colab.kernel.accessAllowed ? 'block' : 'none';\n",
              "\n",
              "      async function convertToInteractive(key) {\n",
              "        const element = document.querySelector('#df-bada7386-4cd0-4447-8b3d-b8169613cbeb');\n",
              "        const dataTable =\n",
              "          await google.colab.kernel.invokeFunction('convertToInteractive',\n",
              "                                                    [key], {});\n",
              "        if (!dataTable) return;\n",
              "\n",
              "        const docLinkHtml = 'Like what you see? Visit the ' +\n",
              "          '<a target=\"_blank\" href=https://colab.research.google.com/notebooks/data_table.ipynb>data table notebook</a>'\n",
              "          + ' to learn more about interactive tables.';\n",
              "        element.innerHTML = '';\n",
              "        dataTable['output_type'] = 'display_data';\n",
              "        await google.colab.output.renderOutput(dataTable, element);\n",
              "        const docLink = document.createElement('div');\n",
              "        docLink.innerHTML = docLinkHtml;\n",
              "        element.appendChild(docLink);\n",
              "      }\n",
              "    </script>\n",
              "  </div>\n",
              "\n",
              "\n",
              "<div id=\"df-55132c73-3111-4371-a433-642995e90606\">\n",
              "  <button class=\"colab-df-quickchart\" onclick=\"quickchart('df-55132c73-3111-4371-a433-642995e90606')\"\n",
              "            title=\"Suggest charts\"\n",
              "            style=\"display:none;\">\n",
              "\n",
              "<svg xmlns=\"http://www.w3.org/2000/svg\" height=\"24px\"viewBox=\"0 0 24 24\"\n",
              "     width=\"24px\">\n",
              "    <g>\n",
              "        <path d=\"M19 3H5c-1.1 0-2 .9-2 2v14c0 1.1.9 2 2 2h14c1.1 0 2-.9 2-2V5c0-1.1-.9-2-2-2zM9 17H7v-7h2v7zm4 0h-2V7h2v10zm4 0h-2v-4h2v4z\"/>\n",
              "    </g>\n",
              "</svg>\n",
              "  </button>\n",
              "\n",
              "<style>\n",
              "  .colab-df-quickchart {\n",
              "      --bg-color: #E8F0FE;\n",
              "      --fill-color: #1967D2;\n",
              "      --hover-bg-color: #E2EBFA;\n",
              "      --hover-fill-color: #174EA6;\n",
              "      --disabled-fill-color: #AAA;\n",
              "      --disabled-bg-color: #DDD;\n",
              "  }\n",
              "\n",
              "  [theme=dark] .colab-df-quickchart {\n",
              "      --bg-color: #3B4455;\n",
              "      --fill-color: #D2E3FC;\n",
              "      --hover-bg-color: #434B5C;\n",
              "      --hover-fill-color: #FFFFFF;\n",
              "      --disabled-bg-color: #3B4455;\n",
              "      --disabled-fill-color: #666;\n",
              "  }\n",
              "\n",
              "  .colab-df-quickchart {\n",
              "    background-color: var(--bg-color);\n",
              "    border: none;\n",
              "    border-radius: 50%;\n",
              "    cursor: pointer;\n",
              "    display: none;\n",
              "    fill: var(--fill-color);\n",
              "    height: 32px;\n",
              "    padding: 0;\n",
              "    width: 32px;\n",
              "  }\n",
              "\n",
              "  .colab-df-quickchart:hover {\n",
              "    background-color: var(--hover-bg-color);\n",
              "    box-shadow: 0 1px 2px rgba(60, 64, 67, 0.3), 0 1px 3px 1px rgba(60, 64, 67, 0.15);\n",
              "    fill: var(--button-hover-fill-color);\n",
              "  }\n",
              "\n",
              "  .colab-df-quickchart-complete:disabled,\n",
              "  .colab-df-quickchart-complete:disabled:hover {\n",
              "    background-color: var(--disabled-bg-color);\n",
              "    fill: var(--disabled-fill-color);\n",
              "    box-shadow: none;\n",
              "  }\n",
              "\n",
              "  .colab-df-spinner {\n",
              "    border: 2px solid var(--fill-color);\n",
              "    border-color: transparent;\n",
              "    border-bottom-color: var(--fill-color);\n",
              "    animation:\n",
              "      spin 1s steps(1) infinite;\n",
              "  }\n",
              "\n",
              "  @keyframes spin {\n",
              "    0% {\n",
              "      border-color: transparent;\n",
              "      border-bottom-color: var(--fill-color);\n",
              "      border-left-color: var(--fill-color);\n",
              "    }\n",
              "    20% {\n",
              "      border-color: transparent;\n",
              "      border-left-color: var(--fill-color);\n",
              "      border-top-color: var(--fill-color);\n",
              "    }\n",
              "    30% {\n",
              "      border-color: transparent;\n",
              "      border-left-color: var(--fill-color);\n",
              "      border-top-color: var(--fill-color);\n",
              "      border-right-color: var(--fill-color);\n",
              "    }\n",
              "    40% {\n",
              "      border-color: transparent;\n",
              "      border-right-color: var(--fill-color);\n",
              "      border-top-color: var(--fill-color);\n",
              "    }\n",
              "    60% {\n",
              "      border-color: transparent;\n",
              "      border-right-color: var(--fill-color);\n",
              "    }\n",
              "    80% {\n",
              "      border-color: transparent;\n",
              "      border-right-color: var(--fill-color);\n",
              "      border-bottom-color: var(--fill-color);\n",
              "    }\n",
              "    90% {\n",
              "      border-color: transparent;\n",
              "      border-bottom-color: var(--fill-color);\n",
              "    }\n",
              "  }\n",
              "</style>\n",
              "\n",
              "  <script>\n",
              "    async function quickchart(key) {\n",
              "      const quickchartButtonEl =\n",
              "        document.querySelector('#' + key + ' button');\n",
              "      quickchartButtonEl.disabled = true;  // To prevent multiple clicks.\n",
              "      quickchartButtonEl.classList.add('colab-df-spinner');\n",
              "      try {\n",
              "        const charts = await google.colab.kernel.invokeFunction(\n",
              "            'suggestCharts', [key], {});\n",
              "      } catch (error) {\n",
              "        console.error('Error during call to suggestCharts:', error);\n",
              "      }\n",
              "      quickchartButtonEl.classList.remove('colab-df-spinner');\n",
              "      quickchartButtonEl.classList.add('colab-df-quickchart-complete');\n",
              "    }\n",
              "    (() => {\n",
              "      let quickchartButtonEl =\n",
              "        document.querySelector('#df-55132c73-3111-4371-a433-642995e90606 button');\n",
              "      quickchartButtonEl.style.display =\n",
              "        google.colab.kernel.accessAllowed ? 'block' : 'none';\n",
              "    })();\n",
              "  </script>\n",
              "</div>\n",
              "\n",
              "    </div>\n",
              "  </div>\n"
            ],
            "application/vnd.google.colaboratory.intrinsic+json": {
              "type": "dataframe",
              "variable_name": "planilha",
              "summary": "{\n  \"name\": \"planilha\",\n  \"rows\": 10,\n  \"fields\": [\n    {\n      \"column\": \"ID\",\n      \"properties\": {\n        \"dtype\": \"number\",\n        \"std\": 29005347,\n        \"min\": 5811556,\n        \"max\": 95569489,\n        \"num_unique_values\": 10,\n        \"samples\": [\n          95569489,\n          83494978,\n          73920634\n        ],\n        \"semantic_type\": \"\",\n        \"description\": \"\"\n      }\n    },\n    {\n      \"column\": \"Nome\",\n      \"properties\": {\n        \"dtype\": \"string\",\n        \"num_unique_values\": 9,\n        \"samples\": [\n          \"Lucas Almeida\",\n          \"Renata Pereira\",\n          \"Carla Araujo\"\n        ],\n        \"semantic_type\": \"\",\n        \"description\": \"\"\n      }\n    },\n    {\n      \"column\": \"C\\u00f3digos de rastreio\",\n      \"properties\": {\n        \"dtype\": \"string\",\n        \"num_unique_values\": 10,\n        \"samples\": [\n          \"D8M9HKGXVZL0\",\n          \"C5WRXE33NSNK\",\n          \"O10GUXT3MDOA\"\n        ],\n        \"semantic_type\": \"\",\n        \"description\": \"\"\n      }\n    },\n    {\n      \"column\": \"Email\",\n      \"properties\": {\n        \"dtype\": \"string\",\n        \"num_unique_values\": 9,\n        \"samples\": [\n          \"lucas.almeida@gmail.com\",\n          \"renata.pereira@gmail.com\",\n          \"carla.araujo@outlook.com\"\n        ],\n        \"semantic_type\": \"\",\n        \"description\": \"\"\n      }\n    },\n    {\n      \"column\": \"Estado\",\n      \"properties\": {\n        \"dtype\": \"string\",\n        \"num_unique_values\": 7,\n        \"samples\": [\n          \"ES\",\n          \"PR\",\n          \"BA\"\n        ],\n        \"semantic_type\": \"\",\n        \"description\": \"\"\n      }\n    }\n  ]\n}"
            }
          },
          "metadata": {},
          "execution_count": 14
        }
      ]
    },
    {
      "cell_type": "code",
      "source": [
        "email_coluna = planilha['Email']\n",
        "print(email_coluna.head())"
      ],
      "metadata": {
        "colab": {
          "base_uri": "https://localhost:8080/"
        },
        "id": "H0jON1tI3rsW",
        "outputId": "7a22323d-6204-43e6-f344-b597c6857de0"
      },
      "execution_count": 17,
      "outputs": [
        {
          "output_type": "stream",
          "name": "stdout",
          "text": [
            "0                           lucas.oliveira@uol.com.br\n",
            "1                            renata.pereira@gmail.com\n",
            "2    renata.costa@dominio-muito-longo-de-email.com.br\n",
            "3                            felipe.silva@outlook.com\n",
            "4                            felipe.souza@outlook.com\n",
            "Name: Email, dtype: object\n"
          ]
        }
      ]
    },
    {
      "cell_type": "code",
      "source": [
        "emails = email_coluna.tolist()\n",
        "print(emails)"
      ],
      "metadata": {
        "colab": {
          "base_uri": "https://localhost:8080/"
        },
        "id": "QSR5Y_SJ3uPp",
        "outputId": "3420203a-b535-4129-ea67-ab279e2cfbc0"
      },
      "execution_count": 18,
      "outputs": [
        {
          "output_type": "stream",
          "name": "stdout",
          "text": [
            "['lucas.oliveira@uol.com.br', 'renata.pereira@gmail.com', 'renata.costa@dominio-muito-longo-de-email.com.br', 'felipe.silva@outlook.com', 'felipe.souza@outlook.com', 'carla.araujo@outlook.com', 'marcos.araujo@gmail.com', 'renata.costa@dominio-muito-longo-de-email.com.br', 'lucas.almeida@gmail.com', 'ana.pereira@uol.com.br']\n"
          ]
        }
      ]
    },
    {
      "cell_type": "code",
      "source": [
        "# Função para verificar a lista de e-mails e salvar o resultado em um CSV\n",
        "def verificar_emails_lista(emails, csv_file):\n",
        "    resultados = []\n",
        "\n",
        "    for email in emails:\n",
        "        status = verificar_email(email)\n",
        "        resultados.append({\"email\": email, \"status\": status})\n",
        "\n",
        "    with open(csv_file, mode='w', newline='') as file:\n",
        "        writer = csv.DictWriter(file, fieldnames=[\"email\", \"status\"])\n",
        "        writer.writeheader()\n",
        "        writer.writerows(resultados)\n",
        "\n",
        "# Nome do arquivo CSV para salvar os resultados\n",
        "csv_file = \"validacao_emails.csv\"\n",
        "\n",
        "# Verificar os e-mails e salvar os resultados\n",
        "verificar_emails_lista(emails, csv_file)"
      ],
      "metadata": {
        "colab": {
          "base_uri": "https://localhost:8080/"
        },
        "id": "oHfsv_C43xE-",
        "outputId": "527a3914-0940-4ba4-8b01-1b4d0680d816"
      },
      "execution_count": 19,
      "outputs": [
        {
          "output_type": "stream",
          "name": "stdout",
          "text": [
            "O domínio uol.com.br não possui um catch-all configurado.\n",
            "Erro ao verificar o e-mail lucas.oliveira@uol.com.br: Connection unexpectedly closed\n",
            "Não foi possível verificar o e-mail lucas.oliveira@uol.com.br.\n",
            "O domínio gmail.com não possui um catch-all configurado.\n",
            "O e-mail renata.pereira@gmail.com parece ser válido.\n",
            "O domínio outlook.com não possui um catch-all configurado.\n",
            "Erro ao verificar o e-mail felipe.silva@outlook.com: Connection unexpectedly closed\n",
            "Não foi possível verificar o e-mail felipe.silva@outlook.com.\n",
            "O domínio outlook.com não possui um catch-all configurado.\n",
            "Erro ao verificar o e-mail felipe.souza@outlook.com: Connection unexpectedly closed\n",
            "Não foi possível verificar o e-mail felipe.souza@outlook.com.\n",
            "O domínio outlook.com não possui um catch-all configurado.\n",
            "Erro ao verificar o e-mail carla.araujo@outlook.com: Connection unexpectedly closed\n",
            "Não foi possível verificar o e-mail carla.araujo@outlook.com.\n",
            "O domínio gmail.com não possui um catch-all configurado.\n",
            "O e-mail marcos.araujo@gmail.com parece ser válido.\n",
            "O domínio gmail.com não possui um catch-all configurado.\n",
            "O e-mail lucas.almeida@gmail.com parece ser válido.\n",
            "O domínio uol.com.br não possui um catch-all configurado.\n",
            "Erro ao verificar o e-mail ana.pereira@uol.com.br: Connection unexpectedly closed\n",
            "Não foi possível verificar o e-mail ana.pereira@uol.com.br.\n"
          ]
        }
      ]
    },
    {
      "cell_type": "markdown",
      "source": [
        "# **Documentações:**\n",
        "\n",
        "*   pandas: https://pandas.pydata.org/docs/\n",
        "*   dsnpython: https://dnspython.readthedocs.io/en/latest/\n",
        "*   requests: https://requests.readthedocs.io/projects/pt/pt-br/latest/user/quickstart.html\n",
        "*  csv: https://docs.python.org/3/library/csv.html\n",
        "* smtplib: https://docs.python.org/3/library/smtplib.html"
      ],
      "metadata": {
        "id": "2X4VPft2OcCF"
      }
    },
    {
      "cell_type": "markdown",
      "source": [
        "# **Referências:**\n",
        "* Artigo base de referência:\n",
        "\n",
        " https://snov.io/blog/br/verificacao-de-email-explicada/\n",
        "\n",
        "* API de referência:\n",
        "\n",
        " https://hunter.io/api-documentation/v2#email-verifier\n",
        "\n",
        "\n",
        "*   Plataforma de validação de email que inspirou o projeto:\n",
        "\n",
        " https://snov.io/br/verificador-de-emails\n",
        "*  Entendendo DNS:\n",
        "\n",
        " https://support.google.com/a/answer/48090?hl=pt-BR#:~:text=voltar%20ao%20in%C3%ADcio-,Registro%20MX,de%20e%2Dmail%20do%20Google.\n",
        "*   Status de email:\n",
        "\n",
        " https://snov.io/knowledgebase/email-statuses/\n",
        "\n",
        "*   Definições de leads:\n",
        "\n",
        " https://fleeg.com/blog/inbound-marketing/leads/?origin=fleeg_snovio_link_backlink&utm_source=Snovio&utm_medium=link&utm_campaign=backlink\n",
        "*   Verificação sintaxe:\n",
        "\n",
        " https://en.wikipedia.org/wiki/Email_address#Local-part\n",
        "\n",
        " https://en.wikipedia.org/wiki/Octet_(computing)\n",
        "\n",
        " https://www.youtube.com/watch?v=WkNBhYMUXwI\n",
        "*   Envio de email SMTP:\n",
        "\n",
        " https://www.youtube.com/watch?v=umvzsQLZYD4\n",
        "*   Verificação TLD/MX record/Sintaxe:\n",
        "\n",
        " https://www.youtube.com/watch?v=Bj61jJo2Mvs\n",
        "\n",
        " https://gcore.com/learning/dns-mx-record-explained/\n",
        "\n",
        "\n",
        "\n"
      ],
      "metadata": {
        "id": "ERe5BAiAQEXZ"
      }
    }
  ]
}