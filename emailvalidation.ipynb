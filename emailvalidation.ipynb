{
  "nbformat": 4,
  "nbformat_minor": 0,
  "metadata": {
    "colab": {
      "provenance": [],
      "toc_visible": true,
      "authorship_tag": "ABX9TyPK51qb6kF+WMwP0CRzjmVi",
      "include_colab_link": true
    },
    "kernelspec": {
      "name": "python3",
      "display_name": "Python 3"
    },
    "language_info": {
      "name": "python"
    }
  },
  "cells": [
    {
      "cell_type": "markdown",
      "metadata": {
        "id": "view-in-github",
        "colab_type": "text"
      },
      "source": [
        "<a href=\"https://colab.research.google.com/github/FelipeNemo/email-validation-guide/blob/main/emailvalidation.ipynb\" target=\"_parent\"><img src=\"https://colab.research.google.com/assets/colab-badge.svg\" alt=\"Open In Colab\"/></a>"
      ]
    },
    {
      "cell_type": "markdown",
      "source": [
        "# **Sistema de Validação de Email para prevenção de fraude**\n",
        "\n",
        "Autor: Felipe Augusto Batista Mendes dos Santos\n"
      ],
      "metadata": {
        "id": "nczBkBffUs0L"
      }
    },
    {
      "cell_type": "markdown",
      "source": [
        "# Verificação de Email\n",
        "Verificação de um endereço de email existente e ativo, ou seja, válido. Um email válido pode receber mensagens de outros remetentes. São responsáveis por executar uma etapa do **PROCESSO DE VERIFICAÇÃO**, como por exemplo:\n",
        "* Verificações de sintaxe\n",
        "* Domínio\n",
        "* Catch-all\n",
        "* Registro MX\n",
        "* Ping de endereço de e-mail\n",
        "\n",
        "# Validação de email\n",
        "É o resultado final do processo de verificação de email. Às vezes, a validação também implica na verificação de qualquer informação adicional que vem com o e-mail do lead ou na verificação da origem desse lead.\n",
        "\n",
        "* “Não verificado” ⭕ - antes do processo de verificação.\n",
        "\n",
        "* “Válido” 🟢 – significa que um e-mail está correto e existe.\n",
        "\n",
        "* “Inválido” 🟡 -  significa que esse endereço de e-mail pode receber mensagens, mas devido a uma configuração em todo o domínio, não é possível determinar a sua validade real, assim ele é marcado como Não verificável. Esses e-mails também são conhecidos como e-mails “pegam tudo” ou “aceitam tudo”.\n",
        "\n",
        "* “Não verificável” 🔴 – significa que um endereço de e-mail não existe ou não está mais ativo.\n",
        "\n",
        "*  “Não é possível encontrar o e-mail” ⚪ - clientes potenciais com informações pessoais, como fotos ou experiência profissional etc., no entanto, não há endereço de e-mail."
      ],
      "metadata": {
        "id": "MbbML_rbPU_S"
      }
    },
    {
      "cell_type": "markdown",
      "source": [
        "# Para que verificar emails?\n",
        "\n",
        "1.    Manter listas de e-mail atualizadas\n",
        "2.    Reduz hard bounces\n",
        "3.    Melhora a capacidade de entrega de e-mail\n",
        "4.    Mantém a reputação do remetente elevada\n",
        "4.    Prevenção de ataque de fraude\n",
        "\n",
        "\n",
        "\n",
        "\n",
        "\n",
        "\n",
        "\n",
        "\n"
      ],
      "metadata": {
        "id": "YsHwr_vuRHAi"
      }
    },
    {
      "cell_type": "markdown",
      "source": [
        "# Como funciona um verificador de e-mail:\n",
        "1.   Verificação de sintaxe\n",
        "2.   Verificação de jargão\n",
        "3.   Verificação de existência de domínio\n",
        "4.   Verificação de registro MX\n",
        "5.   Verificação de domínio catch-all\n",
        "6.   Autenticação SMTP (ping de endereço de e-mail)\n",
        "7.   Verificação de freemail\n",
        "\n",
        "\n"
      ],
      "metadata": {
        "id": "PuN7fpiDSVFy"
      }
    },
    {
      "cell_type": "markdown",
      "source": [
        "# 1. Verificação de sintaxe"
      ],
      "metadata": {
        "id": "VGafA2GKUBFa"
      }
    },
    {
      "cell_type": "code",
      "source": [],
      "metadata": {
        "id": "VYRg9cPXPkC7"
      },
      "execution_count": null,
      "outputs": []
    },
    {
      "cell_type": "markdown",
      "source": [
        "# 2. Verificação de domínio"
      ],
      "metadata": {
        "id": "5dl0DT8JUDnU"
      }
    },
    {
      "cell_type": "code",
      "source": [],
      "metadata": {
        "id": "3_AruF4GUL5v"
      },
      "execution_count": null,
      "outputs": []
    },
    {
      "cell_type": "markdown",
      "source": [
        "# 3.Verificação catch-all"
      ],
      "metadata": {
        "id": "3-f8IV1aUOVc"
      }
    },
    {
      "cell_type": "code",
      "source": [],
      "metadata": {
        "id": "TRiIoYsuUPvS"
      },
      "execution_count": null,
      "outputs": []
    },
    {
      "cell_type": "markdown",
      "source": [
        "# 4. Verificação do registro MX"
      ],
      "metadata": {
        "id": "cDgew-pDUQei"
      }
    },
    {
      "cell_type": "code",
      "source": [],
      "metadata": {
        "id": "Y_yzZG-CUg9x"
      },
      "execution_count": null,
      "outputs": []
    },
    {
      "cell_type": "markdown",
      "source": [
        "# 5. Ping do endereço de e-mail"
      ],
      "metadata": {
        "id": "PtsAzeNXUl09"
      }
    },
    {
      "cell_type": "code",
      "source": [],
      "metadata": {
        "id": "omRVCNucUnIz"
      },
      "execution_count": null,
      "outputs": []
    },
    {
      "cell_type": "markdown",
      "source": [
        "## Referências:\n",
        "* Artigo de referência: https://snov.io/blog/br/verificacao-de-email-explicada/\n",
        "*   Plataforma de validação de email que inspirou as etapas de verificação: https://snov.io/br/verificador-de-emails\n",
        "*   https://support.google.com/a/answer/48090?hl=pt-BR#:~:text=voltar%20ao%20in%C3%ADcio-,Registro%20MX,de%20e%2Dmail%20do%20Google.\n",
        "*   https://snov.io/blog/br/verificacao-de-email-explicada/\n",
        "*   https://fleeg.com/blog/inbound-marketing/leads/?origin=fleeg_snovio_link_backlink&utm_source=Snovio&utm_medium=link&utm_campaign=backlink\n",
        "*   https://snov.io/knowledgebase/email-statuses/\n",
        "*   Item da lista\n",
        "*   Item da lista\n",
        "*   Item da lista\n",
        "*   Item da lista\n",
        "*   Item da lista\n",
        "\n",
        "\n",
        "\n"
      ],
      "metadata": {
        "id": "ERe5BAiAQEXZ"
      }
    }
  ]
}