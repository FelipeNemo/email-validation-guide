{
  "nbformat": 4,
  "nbformat_minor": 0,
  "metadata": {
    "colab": {
      "provenance": [],
      "authorship_tag": "ABX9TyNyrA26uwyKOfkEJ+wA27Gb",
      "include_colab_link": true
    },
    "kernelspec": {
      "name": "python3",
      "display_name": "Python 3"
    },
    "language_info": {
      "name": "python"
    }
  },
  "cells": [
    {
      "cell_type": "markdown",
      "metadata": {
        "id": "view-in-github",
        "colab_type": "text"
      },
      "source": [
        "<a href=\"https://colab.research.google.com/github/FelipeNemo/email-validation-guide/blob/syntax-verifier/emailvalidation.ipynb\" target=\"_parent\"><img src=\"https://colab.research.google.com/assets/colab-badge.svg\" alt=\"Open In Colab\"/></a>"
      ]
    },
    {
      "cell_type": "markdown",
      "source": [
        "# **Sistema de Validação de Email para prevenção de fraude**\n",
        "\n",
        "**Autores:** Felipe Augusto Batista Mendes dos Santos\n",
        "\n"
      ],
      "metadata": {
        "id": "nczBkBffUs0L"
      }
    },
    {
      "cell_type": "markdown",
      "source": [
        "Este sistema atende à necessidade de validação de e-mails para aumentar a eficiência e a segurança das transações online, utilizando um pipeline de processamento. Ele visa usar o status de classificação de validade para a tomada de decisões.\n",
        "\n",
        "* **Input:** Dados estruturados\n",
        "* **Output:** Status de classificação de e-mail"
      ],
      "metadata": {
        "id": "pFsnY1Va9qZr"
      }
    },
    {
      "cell_type": "markdown",
      "source": [
        "# Verificação de Email\n",
        "Verificação de um endereço de email existente e ativo, ou seja, válido. Um email válido pode receber mensagens de outros remetentes. São responsáveis por executar uma etapa do **PROCESSO DE VERIFICAÇÃO**, como por exemplo:\n",
        "* Verificações de sintaxe\n",
        "* Domínio\n",
        "* Catch-all\n",
        "* Registro MX\n",
        "* Ping de endereço de e-mail\n",
        "\n",
        "# Validação de email\n",
        "É o resultado final do processo de verificação de email. Às vezes, a validação também implica na verificação de qualquer informação adicional que vem com o e-mail do lead ou na verificação da origem desse lead.\n",
        "\n",
        "* “Não verificado” ⭕ - antes do processo de verificação.\n",
        "\n",
        "* “Válido” 🟢 – significa que um e-mail está correto e existe.\n",
        "\n",
        "* “Inválido” 🟡 -  significa que esse endereço de e-mail pode receber mensagens, mas devido a uma configuração em todo o domínio, não é possível determinar a sua validade real, assim ele é marcado como Não verificável. Esses e-mails também são conhecidos como e-mails “pegam tudo” ou “aceitam tudo”.\n",
        "\n",
        "* “Não verificável” 🔴 – significa que um endereço de e-mail não existe ou não está mais ativo.\n",
        "\n",
        "*  “Não é possível encontrar o e-mail” ⚪ - clientes potenciais com informações pessoais, como fotos ou experiência profissional etc., no entanto, não há endereço de e-mail."
      ],
      "metadata": {
        "id": "MbbML_rbPU_S"
      }
    },
    {
      "cell_type": "markdown",
      "source": [
        "# Para que verificar emails?\n",
        "\n",
        "1.    Manter listas de e-mail atualizadas\n",
        "2.    Reduz hard bounces\n",
        "3.    Melhora a capacidade de entrega de e-mail\n",
        "4.    Mantém a reputação do remetente elevada\n",
        "4.    Prevenção de ataque de fraude\n",
        "\n",
        "\n",
        "\n",
        "\n",
        "\n",
        "\n",
        "\n",
        "\n"
      ],
      "metadata": {
        "id": "YsHwr_vuRHAi"
      }
    },
    {
      "cell_type": "markdown",
      "source": [
        "# Como funciona um verificador de e-mail:\n",
        "1.   Verificação de sintaxe\n",
        "2.   Verificação de jargão\n",
        "3.   Verificação de existência de domínio\n",
        "4.   Verificação de registro MX\n",
        "5.   Verificação de domínio catch-all\n",
        "6.   Autenticação SMTP (ping de endereço de e-mail)\n",
        "7.   Verificação de freemail\n",
        "\n",
        "\n"
      ],
      "metadata": {
        "id": "PuN7fpiDSVFy"
      }
    },
    {
      "cell_type": "markdown",
      "source": [
        "# Leitura .csv"
      ],
      "metadata": {
        "id": "4wHv8Lr1ZmQh"
      }
    },
    {
      "cell_type": "code",
      "source": [],
      "metadata": {
        "id": "e1NIQyVsZluV"
      },
      "execution_count": null,
      "outputs": []
    },
    {
      "cell_type": "markdown",
      "source": [
        "# 1. Verificação de sintaxe:\n",
        "**Ferramentas:**  \n",
        "\n",
        "*   Python\n",
        "\n",
        "## Correspondência de padrão de email:\n",
        "\n",
        "> < local-part@domain >\n",
        "\n",
        "1. **local-part** -  Pode ter até 64 octetos de comprimento, disposição de pontos e caracteres especiais.\n",
        "\n",
        "2. **@** - Deve conter apenas 1 elemento \"@\"em todo o e-mail\n",
        "\n",
        "3. **domain** -  Pode ter no máximo 255 octetos e deve conter apenas 1 \".\"\n",
        "\n",
        "  Exemplo: .org .net .com\n",
        "\n"
      ],
      "metadata": {
        "id": "VGafA2GKUBFa"
      }
    },
    {
      "cell_type": "code",
      "source": [
        "def verificador_global(email):\n",
        "      # Verifica se contém exatamente um \"@\"\n",
        "    if email.count('@') != 1:\n",
        "        return False\n",
        "\n",
        "    local, domain = email.split('@')\n",
        "\n",
        "    return True"
      ],
      "metadata": {
        "id": "8gdwqZE1ysvv"
      },
      "execution_count": 14,
      "outputs": []
    },
    {
      "cell_type": "markdown",
      "source": [
        "### Local-part:\n",
        "*  64 octetos de comprimento\n",
        "\n",
        "* **Disposição geral de pontos:**\n",
        "\n",
        " Não é permitido que seja o primeiro ou o último caractere, e que também apareça consecutivamente\n",
        "\n",
        "* **Caracteres especiais:**\n",
        "\n",
        "> \"() , : ; < > @ [ \\ ]\n",
        "\n",
        "  -  São permitidos com restrições(somente dentro de uma string entre aspas e nessa string entre aspas, qualquer barra invertida ou aspas duplas deve ser precedida uma vez por uma barra invertida)\n",
        "   \n",
        "   Exemplo:\n",
        "   \n",
        "   john.smith(comment)@example.come e (comment)john.smith@example.com são ambos equivalentes a john.smith@example.com"
      ],
      "metadata": {
        "id": "S94eeC5xu31Q"
      }
    },
    {
      "cell_type": "code",
      "source": [
        "#Constantes:\n",
        "CARACTERES_ESPECIAIS = { \"(\", \")\", \",\", \":\", \";\", \"<\", \">\", \"@\", \"[\", \"]\" }"
      ],
      "metadata": {
        "id": "wBw3YFYvne39"
      },
      "execution_count": 15,
      "outputs": []
    },
    {
      "cell_type": "code",
      "source": [
        "def local_sintax(local, verificador_global):\n",
        "\n",
        "    # Verifica o comprimento da parte local\n",
        "    if len(local.encode('utf-8')) > 64:\n",
        "        return False\n",
        "\n",
        "    # Verifica a disposição de pontos na parte local\n",
        "    if local.startswith('.') or local.endswith('.'):\n",
        "        return False\n",
        "    if '..' in local:\n",
        "        return False\n",
        "\n",
        "    # Verifica a presença de caracteres especiais na parte local\n",
        "    if any(char in CARACTERES_ESPECIAIS for char in local):\n",
        "        if not (local.startswith('\"') and local.endswith('\"')):\n",
        "            return False\n",
        "        for i, char in enumerate(local):\n",
        "            if char in CARACTERES_ESPECIAIS:\n",
        "                if i == 0 or i == len(local) - 1 or local[i - 1] != '\\\\':\n",
        "                    return False\n",
        "    return True\n"
      ],
      "metadata": {
        "id": "VYRg9cPXPkC7"
      },
      "execution_count": 16,
      "outputs": []
    },
    {
      "cell_type": "markdown",
      "source": [
        "### Domain\n",
        "* 255 octetos de comprimento\n",
        "* **Disposição geral de pontos:**\n",
        "\n",
        "  Deve conter apenas 1 \".\" :"
      ],
      "metadata": {
        "id": "EgAN818RvGpw"
      }
    },
    {
      "cell_type": "code",
      "source": [
        "def domain_sintax(domain, verificador_global)\n",
        "    # Verifica o comprimento da parte do domínio\n",
        "    if len(domain.encode('utf-8')) > 255:\n",
        "        return False\n",
        "\n",
        "    # Verifica se o domínio contém exatamente um \".\"\n",
        "    if domain.count('.') != 1:\n",
        "        return False"
      ],
      "metadata": {
        "id": "bsoazTRovOqX"
      },
      "execution_count": null,
      "outputs": []
    },
    {
      "cell_type": "markdown",
      "source": [
        "### Conclusão:"
      ],
      "metadata": {
        "id": "rbVcG8Z3wN-v"
      }
    },
    {
      "cell_type": "code",
      "source": [
        "def verificador_sintax(local_sintax, domain_sintax):\n",
        "  pass"
      ],
      "metadata": {
        "id": "oFUnWbBSyGHE"
      },
      "execution_count": null,
      "outputs": []
    },
    {
      "cell_type": "markdown",
      "source": [
        "# 2. Verificação de domínio:\n",
        "Ferramentas:\n",
        "\n",
        "*   DNSRECON\n"
      ],
      "metadata": {
        "id": "5dl0DT8JUDnU"
      }
    },
    {
      "cell_type": "code",
      "source": [],
      "metadata": {
        "id": "3_AruF4GUL5v"
      },
      "execution_count": null,
      "outputs": []
    },
    {
      "cell_type": "markdown",
      "source": [
        "# 3.Verificação catch-all"
      ],
      "metadata": {
        "id": "3-f8IV1aUOVc"
      }
    },
    {
      "cell_type": "code",
      "source": [],
      "metadata": {
        "id": "TRiIoYsuUPvS"
      },
      "execution_count": null,
      "outputs": []
    },
    {
      "cell_type": "markdown",
      "source": [
        "# 4. Verificação do registro MX:\n",
        "Ferramentas:\n",
        "\n",
        "*   Pydantic"
      ],
      "metadata": {
        "id": "cDgew-pDUQei"
      }
    },
    {
      "cell_type": "code",
      "source": [],
      "metadata": {
        "id": "Y_yzZG-CUg9x"
      },
      "execution_count": null,
      "outputs": []
    },
    {
      "cell_type": "markdown",
      "source": [
        "# 5. Ping do endereço de e-mail"
      ],
      "metadata": {
        "id": "PtsAzeNXUl09"
      }
    },
    {
      "cell_type": "code",
      "source": [],
      "metadata": {
        "id": "omRVCNucUnIz"
      },
      "execution_count": null,
      "outputs": []
    },
    {
      "cell_type": "markdown",
      "source": [
        "# Futuras melhorias:\n"
      ],
      "metadata": {
        "id": "6h30NLJI83sQ"
      }
    },
    {
      "cell_type": "markdown",
      "source": [
        "## Referências:\n",
        "* Principal Artigo de referência:\n",
        "\n",
        " https://snov.io/blog/br/verificacao-de-email-explicada/\n",
        "*   Plataforma de validação de email que inspirou o projeto:\n",
        "\n",
        " https://snov.io/br/verificador-de-emails\n",
        "*  Entendendo DNS:\n",
        "\n",
        " https://support.google.com/a/answer/48090?hl=pt-BR#:~:text=voltar%20ao%20in%C3%ADcio-,Registro%20MX,de%20e%2Dmail%20do%20Google.\n",
        "*   Status de email:\n",
        "\n",
        " https://snov.io/knowledgebase/email-statuses/\n",
        "\n",
        "*   Definições de leads:\n",
        "\n",
        " https://fleeg.com/blog/inbound-marketing/leads/?origin=fleeg_snovio_link_backlink&utm_source=Snovio&utm_medium=link&utm_campaign=backlink\n",
        "*   Verificação sintaxe:\n",
        "\n",
        " https://en.wikipedia.org/wiki/Email_address#Local-part\n",
        "\n",
        " https://en.wikipedia.org/wiki/Octet_(computing)\n",
        "\n",
        " https://www.youtube.com/watch?v=WkNBhYMUXwI\n",
        "*   Envio de email SMTP:\n",
        "\n",
        " https://www.youtube.com/watch?v=umvzsQLZYD4\n",
        "*   Verificação TLD/MX record/Sintaxe:\n",
        "\n",
        " https://www.youtube.com/watch?v=Bj61jJo2Mvs\n",
        "*   Item da lista\n",
        "*   Item da lista\n",
        "\n",
        "\n",
        "\n"
      ],
      "metadata": {
        "id": "ERe5BAiAQEXZ"
      }
    }
  ]
}