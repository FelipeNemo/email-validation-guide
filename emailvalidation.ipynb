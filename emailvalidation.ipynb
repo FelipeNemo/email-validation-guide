{
  "nbformat": 4,
  "nbformat_minor": 0,
  "metadata": {
    "colab": {
      "provenance": [],
      "authorship_tag": "ABX9TyPqRfgf9ZutlASkplw50cuY",
      "include_colab_link": true
    },
    "kernelspec": {
      "name": "python3",
      "display_name": "Python 3"
    },
    "language_info": {
      "name": "python"
    }
  },
  "cells": [
    {
      "cell_type": "markdown",
      "metadata": {
        "id": "view-in-github",
        "colab_type": "text"
      },
      "source": [
        "<a href=\"https://colab.research.google.com/github/FelipeNemo/email-validation-guide/blob/main/emailvalidation.ipynb\" target=\"_parent\"><img src=\"https://colab.research.google.com/assets/colab-badge.svg\" alt=\"Open In Colab\"/></a>"
      ]
    },
    {
      "cell_type": "markdown",
      "source": [
        "# **Sistema de Validação de Email para prevenção de fraude**\n",
        "\n",
        "**Autores:** Felipe Augusto Batista Mendes dos Santos\n",
        "\n"
      ],
      "metadata": {
        "id": "nczBkBffUs0L"
      }
    },
    {
      "cell_type": "markdown",
      "source": [
        "Este sistema atende à necessidade de validação de e-mails para aumentar a eficiência e a segurança das transações online, utilizando um pipeline de processamento. Ele visa usar o status de classificação de validade para a tomada de decisões.\n",
        "\n",
        "* **Input:** Dados estruturados\n",
        "* **Output:** Status de classificação de e-mail"
      ],
      "metadata": {
        "id": "pFsnY1Va9qZr"
      }
    },
    {
      "cell_type": "markdown",
      "source": [
        "# Verificação de Email\n",
        "Verificação de um endereço de email existente e ativo, ou seja, válido. Um email válido pode receber mensagens de outros remetentes. São responsáveis por executar uma etapa do **PROCESSO DE VERIFICAÇÃO**, como por exemplo:\n",
        "* Verificações de sintaxe\n",
        "* Domínio\n",
        "* Registro MX\n",
        "* Catch-all\n",
        "* Ping de endereço de e-mail\n",
        "\n",
        "# Validação de email\n",
        "É o resultado final do processo de verificação de email. Às vezes, a validação também implica na verificação de qualquer informação adicional que vem com o e-mail do lead ou na verificação da origem desse lead.\n",
        "\n",
        "* “Não verificado” ⭕ - antes do processo de verificação.\n",
        "\n",
        "* “Válido” 🟢 - significa que um e-mail está correto e existe.\n",
        "\n",
        "* “Inválido” 🟡 -  significa que esse endereço de e-mail pode receber mensagens, mas devido a uma configuração em todo o domínio, não é possível determinar a sua validade real, assim ele é marcado como Não verificável. Esses e-mails também são conhecidos como e-mails “pegam tudo” ou “aceitam tudo”.\n",
        "\n",
        "* “Não verificável” 🔴 – significa que um endereço de e-mail não existe ou não está mais ativo.\n",
        "\n",
        "*  “Não é possível encontrar o e-mail” ⚪ - clientes potenciais com informações pessoais, como fotos ou experiência profissional etc., no entanto, não há endereço de e-mail."
      ],
      "metadata": {
        "id": "MbbML_rbPU_S"
      }
    },
    {
      "cell_type": "markdown",
      "source": [
        "\n",
        "# **Não verificado ⭕ :**\n",
        "– 1. Ainda não entrou em nenhum processo de validação\n",
        "\n",
        "# **Não verificável 🔴 :**\n",
        "– 1. O e-mail falha na verificação de sintaxe (etapa 2).\n",
        "\n",
        "– 2. O domínio não possui um registro A válido (etapa 3).\n",
        "\n",
        "– 3. O domínio não possui registros MX válidos (etapa 4).\n",
        "\n",
        "– 4. O domínio não responde à verificação SMTP (etapa 5).\n",
        "\n",
        "# **Não é possível encontrar o e-mail ⚪ :**\n",
        "– 1. O e-mail não contém exatamente um símbolo \"@\" ou outras informações essenciais estão ausentes, impedindo a verificação de sintaxe (etapa2).         \n",
        "# **Inválido 🟡 :**\n",
        "– 1. O e-mail pode receber mensagens, mas devido a uma configuração em todo o domínio (catch-all), não é possível determinar sua validade real (etapa 4).\n",
        "\n",
        "# **Válido 🟢 :**\n",
        "– 1. Sintaxe correta (etapa 2).\n",
        "\n",
        "– 2. Domínio existente possui registro A válido (etapa 3).\n",
        "\n",
        "– 3. Domínio possui registros MX válidos (etapa 4).\n",
        "\n",
        "– 4. Domínio não está configurado como catch-all (etapa 4).\n",
        "\n",
        "– 5. Domínio responde à verificação SMTP (etapa 5)."
      ],
      "metadata": {
        "id": "iSnfSp0DsTNl"
      }
    },
    {
      "cell_type": "markdown",
      "source": [
        "# Para que verificar emails?\n",
        "\n",
        "1.    Manter listas de e-mail atualizadas\n",
        "2.    Reduz hard bounces\n",
        "3.    Melhora a capacidade de entrega de e-mail\n",
        "4.    Mantém a reputação do remetente elevada\n",
        "4.    Prevenção de ataque de fraude\n",
        "\n",
        "\n",
        "\n",
        "\n",
        "\n",
        "\n",
        "\n",
        "\n"
      ],
      "metadata": {
        "id": "YsHwr_vuRHAi"
      }
    },
    {
      "cell_type": "markdown",
      "source": [
        "# Como funciona um verificador de e-mail:\n",
        "1.   Verificação de sintaxe\n",
        "2.   Verificação de jargão\n",
        "3.   Verificação de existência de domínio\n",
        "4.   Verificação de registro MX\n",
        "5.   Verificação de domínio catch-all\n",
        "6.   Autenticação SMTP (ping de endereço de e-mail)\n",
        "7.   Verificação de freemail\n",
        "\n",
        "\n"
      ],
      "metadata": {
        "id": "PuN7fpiDSVFy"
      }
    },
    {
      "cell_type": "markdown",
      "source": [
        "# **Install:**"
      ],
      "metadata": {
        "id": "3Fn8Slf3Mzuh"
      }
    },
    {
      "cell_type": "code",
      "source": [
        "!pip install dnspython requests\n"
      ],
      "metadata": {
        "colab": {
          "base_uri": "https://localhost:8080/"
        },
        "id": "wj7CPAfaM327",
        "outputId": "d749c502-1136-4263-a2a0-d71964777d71"
      },
      "execution_count": 3,
      "outputs": [
        {
          "output_type": "stream",
          "name": "stdout",
          "text": [
            "Collecting dnspython\n",
            "  Downloading dnspython-2.6.1-py3-none-any.whl.metadata (5.8 kB)\n",
            "Requirement already satisfied: requests in /usr/local/lib/python3.10/dist-packages (2.31.0)\n",
            "Requirement already satisfied: charset-normalizer<4,>=2 in /usr/local/lib/python3.10/dist-packages (from requests) (3.3.2)\n",
            "Requirement already satisfied: idna<4,>=2.5 in /usr/local/lib/python3.10/dist-packages (from requests) (3.7)\n",
            "Requirement already satisfied: urllib3<3,>=1.21.1 in /usr/local/lib/python3.10/dist-packages (from requests) (2.0.7)\n",
            "Requirement already satisfied: certifi>=2017.4.17 in /usr/local/lib/python3.10/dist-packages (from requests) (2024.7.4)\n",
            "Downloading dnspython-2.6.1-py3-none-any.whl (307 kB)\n",
            "\u001b[2K   \u001b[90m━━━━━━━━━━━━━━━━━━━━━━━━━━━━━━━━━━━━━━━━\u001b[0m \u001b[32m307.7/307.7 kB\u001b[0m \u001b[31m1.9 MB/s\u001b[0m eta \u001b[36m0:00:00\u001b[0m\n",
            "\u001b[?25hInstalling collected packages: dnspython\n",
            "Successfully installed dnspython-2.6.1\n"
          ]
        }
      ]
    },
    {
      "cell_type": "markdown",
      "source": [
        "# **Importações:**"
      ],
      "metadata": {
        "id": "hdOGPg8yKvk6"
      }
    },
    {
      "cell_type": "code",
      "source": [
        "import csv\n",
        "from functools import reduce\n",
        "from itertools import *\n",
        "import dns.resolver # modulo de dnspython\n",
        "import requests\n",
        "import smtplib"
      ],
      "metadata": {
        "id": "f5hbnaLUKvGN"
      },
      "execution_count": 4,
      "outputs": []
    },
    {
      "cell_type": "markdown",
      "source": [
        "# **Leitura .csv**"
      ],
      "metadata": {
        "id": "4wHv8Lr1ZmQh"
      }
    },
    {
      "cell_type": "code",
      "source": [
        "def mostra_dados(titulo, nome_arq, f, *args):\n",
        "    \"\"\"\n",
        "    Função auxiliar para mostrar o resultado da execução de uma função do paradigma funcional.\n",
        "    A função abre um arquivo CSV e passa para função do paradigma funcional um objeto DictReader e\n",
        "    depois mostra o resultado na tela.\n",
        "    \"\"\"\n",
        "    print(\"|___   \", titulo, \"  ___|\")\n",
        "    with open(nome_arq, \"r\", encoding='utf-8-sig') as arq:\n",
        "        dados = csv.DictReader(arq, delimiter=',')\n",
        "        fdados = f(dados, *args)\n",
        "        try:\n",
        "            iterator = iter(fdados)\n",
        "        except TypeError:\n",
        "            print(fdados)\n",
        "        else:\n",
        "            for linha in fdados:\n",
        "                print(linha)\n",
        "\n",
        "def retorna_dados(nome_arq):\n",
        "    \"\"\"\n",
        "    Função auxiliar que retorna os dados em formato de um objeto DictReader após a leitura de um arquivo!\n",
        "    \"\"\"\n",
        "    with open(nome_arq, \"r\", encoding='utf-8-sig') as arq:\n",
        "        dados = csv.DictReader(arq, delimiter=',')\n",
        "        for linha in dados:\n",
        "            for chave, valor in linha.items():\n",
        "                linha[chave] = valor.strip()  # reassign\n",
        "            yield linha\n",
        "\n",
        "def salvar_dados(nome_arq, new_file, f):\n",
        "    \"\"\"\n",
        "    Função auxiliar que chama uma função do paradigma funcional e depois salva o resultado em um arquivo CSV!\n",
        "    A função abre um arquivo CSV e passa para função do paradigma funcional um objeto DictReader e\n",
        "    depois salva a saída em um arquivo CSV\n",
        "    \"\"\"\n",
        "    with open(nome_arq, \"r\", encoding='utf-8-sig') as arq:\n",
        "        dados=csv.DictReader(arq, delimiter=',')\n",
        "        fdados = list(f(dados))\n",
        "        fieldnames = fdados[0].keys()\n",
        "\n",
        "    with open(new_file, \"w\", encoding='utf-8-sig') as arq:\n",
        "        try:\n",
        "            iterator=iter(fdados)\n",
        "        except TypeError:\n",
        "            return false\n",
        "        else:\n",
        "            writer = csv.DictWriter(arq, fieldnames=fieldnames)\n",
        "            writer.writeheader()\n",
        "            for i in fdados:\n",
        "                writer.writerow(i)"
      ],
      "metadata": {
        "id": "e1NIQyVsZluV"
      },
      "execution_count": 5,
      "outputs": []
    },
    {
      "cell_type": "markdown",
      "source": [
        "# **1. Verificação de sintaxe:**\n",
        "**Ferramentas:**  \n",
        "\n",
        "*   Python\n",
        "\n",
        "## **Correspondência de padrão de email:**\n",
        "\n",
        "> < local-part@domain >\n",
        "\n",
        "1. **local-part** -  Pode ter até 64 octetos de comprimento, disposição de pontos e caracteres especiais.\n",
        "\n",
        "2. **@** - Deve conter apenas 1 elemento \"@\"em todo o e-mail\n",
        "\n",
        "3. **domain** -  Pode ter no máximo 255 octetos e deve conter apenas 1 \".\"\n",
        "\n"
      ],
      "metadata": {
        "id": "VGafA2GKUBFa"
      }
    },
    {
      "cell_type": "markdown",
      "source": [
        "### **1.1 Local-part:**\n",
        "**Ferramentas:**\n",
        "\n",
        "*   dnspython\n",
        " **Disposição de bytes:**\n",
        "*  64 octetos de comprimento\n",
        "\n",
        "**Disposição geral de pontos:**\n",
        "\n",
        " Não é permitido que seja o primeiro ou o último caractere, e que também apareça consecutivamente\n",
        "\n",
        "* **Caracteres especiais:**\n",
        "\n",
        "> \"() , : ; < > @ [ \\ ]\n",
        "\n",
        "  -  São permitidos com restrições(somente dentro de uma string entre aspas e nessa string entre aspas, qualquer barra invertida ou aspas duplas deve ser precedida uma vez por uma barra invertida)\n",
        "   \n",
        "   Exemplo:\n",
        "   \n",
        "   john.smith(comment)@example.come e (comment)john.smith@example.com são ambos equivalentes a john.smith@example.com\n",
        "\n",
        "   "
      ],
      "metadata": {
        "id": "S94eeC5xu31Q"
      }
    },
    {
      "cell_type": "code",
      "source": [
        "#Constantes:\n",
        "CARACTERES_ESPECIAIS = { \"(\", \")\", \",\", \":\", \";\", \"<\", \">\", \"@\", \"[\", \"]\" }"
      ],
      "metadata": {
        "id": "wBw3YFYvne39"
      },
      "execution_count": 6,
      "outputs": []
    },
    {
      "cell_type": "code",
      "source": [
        "\n",
        "def local_sintax(local):\n",
        "    print(f\"Verificando parte local: {local}\")\n",
        "    # Verifica o comprimento da parte local\n",
        "    if len(local.encode('utf-8')) > 64:\n",
        "        print(\"Falhou: comprimento maior que 64 bytes\")\n",
        "        return False\n",
        "\n",
        "    # Verifica a disposição de pontos na parte local\n",
        "    if local.startswith('.') or local.endswith('.'):\n",
        "        print(\"Falhou: começa ou termina com '.'\")\n",
        "        return False\n",
        "    if '..' in local:\n",
        "        print(\"Falhou: contém '..'\")\n",
        "        return False\n",
        "\n",
        "    # Verifica a presença de caracteres especiais na parte local\n",
        "    if any(char in CARACTERES_ESPECIAIS for char in local):\n",
        "        if not (local.startswith('\"') and local.endswith('\"')):\n",
        "            print(\"Falhou: contém caracteres especiais fora de aspas\")\n",
        "            return False\n",
        "        for i, char in enumerate(local):\n",
        "            if char in CARACTERES_ESPECIAIS:\n",
        "                if i == 0 or i == len(local) - 1 or local[i - 1] != '\\\\':\n",
        "                    print(\"Falhou: caracteres especiais não escapados\")\n",
        "                    return False\n",
        "    return True"
      ],
      "metadata": {
        "id": "VYRg9cPXPkC7"
      },
      "execution_count": 7,
      "outputs": []
    },
    {
      "cell_type": "markdown",
      "source": [
        "### **1.2 Domain**\n",
        "**Ferramentas:**  \n",
        "\n",
        "*   Python\n",
        "\n",
        " **Disposição de bytes:**\n",
        "* 255 octetos de comprimento\n",
        "\n",
        "**Disposição geral de pontos:**\n",
        "  \n",
        "* Deve conter apenas 1 \".\" :"
      ],
      "metadata": {
        "id": "EgAN818RvGpw"
      }
    },
    {
      "cell_type": "code",
      "source": [
        "def domain_sintax(domain):\n",
        "    print(f\"Verificando parte do domínio: {domain}\")\n",
        "    # Verifica o comprimento da parte do domínio\n",
        "    if len(domain.encode('utf-8')) > 255:\n",
        "        print(\"Falhou: comprimento maior que 255 bytes\")\n",
        "        return False\n",
        "\n",
        "    # Verifica se o domínio contém pelo menos um \".\"\n",
        "    if '.' not in domain:\n",
        "        print(\"Falhou: não contém '.'\")\n",
        "        return False\n",
        "\n",
        "    return True"
      ],
      "metadata": {
        "id": "bsoazTRovOqX"
      },
      "execution_count": 8,
      "outputs": []
    },
    {
      "cell_type": "markdown",
      "source": [
        "### **Conclusão:**"
      ],
      "metadata": {
        "id": "rbVcG8Z3wN-v"
      }
    },
    {
      "cell_type": "code",
      "source": [
        "def verificador_sintax(email, local_sintax, domain_sintax):\n",
        "    # Verifica se contém exatamente um \"@\"\n",
        "    if email.count('@') != 1:\n",
        "        print(\"Falhou: não contém exatamente um '@'\")\n",
        "        return False\n",
        "\n",
        "    local, domain = email.split('@')\n",
        "\n",
        "    # Verificação da parte local\n",
        "    if not local_sintax(local):\n",
        "        print(\"Falhou: verificação da parte local\")\n",
        "        return False\n",
        "\n",
        "    # Verificação da parte do domínio\n",
        "    if not domain_sintax(domain):\n",
        "        print(\"Falhou: verificação da parte do domínio\")\n",
        "        return False\n",
        "\n",
        "    return True\n",
        "\n"
      ],
      "metadata": {
        "id": "oFUnWbBSyGHE"
      },
      "execution_count": 9,
      "outputs": []
    },
    {
      "cell_type": "code",
      "source": [
        "# Teste do email\n",
        "email = \"john.smith@example.com\"\n",
        "resultado = verificador_sintax(email, local_sintax, domain_sintax)\n",
        "print(f\"O email '{email}' é válido? {resultado}\")"
      ],
      "metadata": {
        "colab": {
          "base_uri": "https://localhost:8080/"
        },
        "id": "h6b_pmelLaYw",
        "outputId": "df9bfda2-f778-434d-8bd2-71ea243cf0d7"
      },
      "execution_count": 10,
      "outputs": [
        {
          "output_type": "stream",
          "name": "stdout",
          "text": [
            "Verificando parte local: john.smith\n",
            "Verificando parte do domínio: example.com\n",
            "O email 'john.smith@example.com' é válido? True\n"
          ]
        }
      ]
    },
    {
      "cell_type": "markdown",
      "source": [
        "# **2. Verificação de domínio:**\n",
        "**Ferramentas:**\n",
        "\n",
        "*   dnspython\n"
      ],
      "metadata": {
        "id": "5dl0DT8JUDnU"
      }
    },
    {
      "cell_type": "code",
      "source": [
        "# Função para verificar se o domínio existe\n",
        "def check_domain_exists(domain):\n",
        "    try:\n",
        "        # Verifica registros DNS\n",
        "        dns.resolver.resolve(domain, 'A')\n",
        "        return True\n",
        "    except (dns.resolver.NXDOMAIN, dns.resolver.NoAnswer, dns.resolver.Timeout):\n",
        "        return False\n",
        "\n",
        "# Função para verificar se o domínio está ativo\n",
        "def check_domain_active(domain):\n",
        "    try:\n",
        "        # Faz uma requisição HTTP ao domínio\n",
        "        response = requests.get(f\"http://{domain}\", timeout=5)\n",
        "        return response.status_code == 200\n",
        "    except requests.RequestException:\n",
        "        return False\n",
        "\n",
        "# Exemplo de uso\n",
        "domain = \"gmail.com\"\n",
        "exists = check_domain_exists(domain)\n",
        "active = check_domain_active(domain)\n",
        "\n",
        "print(f\"O domínio '{domain}' existe? {exists}\")\n",
        "print(f\"O domínio '{domain}' está ativo? {active}\")"
      ],
      "metadata": {
        "id": "3_AruF4GUL5v",
        "colab": {
          "base_uri": "https://localhost:8080/"
        },
        "outputId": "65995a39-0dc5-4742-caf1-7d17337c1138"
      },
      "execution_count": 11,
      "outputs": [
        {
          "output_type": "stream",
          "name": "stdout",
          "text": [
            "O domínio 'gmail.com' existe? True\n",
            "O domínio 'gmail.com' está ativo? True\n"
          ]
        }
      ]
    },
    {
      "cell_type": "markdown",
      "source": [
        "# **3. Verificação do registro MX:**\n",
        "**Ferramentas:**\n",
        "\n",
        "*   dnspython\n",
        "\n",
        "O registro MX especifica o servidor de e-mail que é responsável por aceitar emails em nome de um domínio específico.Ele funciona verificando se a entrada de troca de correio listada no endereço de e-mail é um nome de domínio real, registrado e hospedado, que pode ser acessado online."
      ],
      "metadata": {
        "id": "3-f8IV1aUOVc"
      }
    },
    {
      "cell_type": "code",
      "source": [
        "def get_mx_records(domain):\n",
        "    try:\n",
        "        answers = dns.resolver.resolve(domain, 'MX')\n",
        "        mx_records = sorted([(rdata.preference, str(rdata.exchange)) for rdata in answers], key=lambda x: x[0])\n",
        "        return [record[1] for record in mx_records]\n",
        "    except dns.resolver.NoAnswer:\n",
        "        print(f\"Não há registros MX para o domínio: {domain}\")\n",
        "        return None\n",
        "    except dns.resolver.NXDOMAIN:\n",
        "        print(f\"O domínio {domain} não existe.\")\n",
        "        return None\n",
        "    except dns.resolver.Timeout:\n",
        "        print(f\"Timeout ao consultar o domínio: {domain}\")\n",
        "        return None\n",
        "    except dns.resolver.NoNameservers:\n",
        "        print(f\"Os servidores de nomes não puderam ser encontrados para o domínio: {domain}\")\n",
        "        return None\n",
        "    except dns.resolver.YXDOMAIN:\n",
        "        print(f\"Nome do domínio muito longo para: {domain}\")\n",
        "        return None\n",
        "    except dns.resolver.NoRootSOA:\n",
        "        print(f\"Domínio {domain} não possui uma SOA válida.\")\n",
        "        return None\n",
        "    except dns.exception.DNSException as e:\n",
        "        print(f\"Erro ao consultar os registros MX do domínio {domain}: {e}\")\n",
        "        return None"
      ],
      "metadata": {
        "id": "TRiIoYsuUPvS"
      },
      "execution_count": 19,
      "outputs": []
    },
    {
      "cell_type": "code",
      "source": [
        "# Exemplo de uso\n",
        "domain = \"gmail.com\"\n",
        "mx_records = get_mx_records(domain)\n",
        "\n",
        "if mx_records:\n",
        "    print(f\"Registros MX para {domain}:\")\n",
        "    for mx in mx_records:\n",
        "        print(f\"- {mx}\")\n",
        "else:\n",
        "    print(f\"Não foi possível encontrar registros MX para o domínio: {domain}\")"
      ],
      "metadata": {
        "id": "_wnrKw_-Pe1M",
        "outputId": "44949eaa-56d4-43c9-8239-1896a27e6d03",
        "colab": {
          "base_uri": "https://localhost:8080/"
        }
      },
      "execution_count": 20,
      "outputs": [
        {
          "output_type": "stream",
          "name": "stdout",
          "text": [
            "Registros MX para gmail.com:\n",
            "- gmail-smtp-in.l.google.com.\n",
            "- alt1.gmail-smtp-in.l.google.com.\n",
            "- alt2.gmail-smtp-in.l.google.com.\n",
            "- alt3.gmail-smtp-in.l.google.com.\n",
            "- alt4.gmail-smtp-in.l.google.com.\n"
          ]
        }
      ]
    },
    {
      "cell_type": "markdown",
      "source": [
        "# **4.Verificação catch-all:**\n",
        "**Ferramentas:**\n",
        "\n",
        "*   dnspython\n",
        "*   smtplib\n",
        "\n",
        "**O que é um domínio \"catch-all\":**\n",
        "\n",
        " está configurado para aceitar emails enviados para qualquer endereço no domínio, mesmo que o endereço específico não exista."
      ],
      "metadata": {
        "id": "kkQ0iMFYLk_W"
      }
    },
    {
      "cell_type": "code",
      "source": [
        "def check_catch_all(domain):\n",
        "    mx_records = get_mx_records(domain)\n",
        "    if not mx_records:\n",
        "        print(f\"Não foi possível encontrar registros MX para o domínio: {domain}\")\n",
        "        return False\n",
        "\n",
        "    test_email = f\"catchall-test-{domain}@{domain}\"\n",
        "    sender_email = \"test@example.com\"\n",
        "\n",
        "    for mx in mx_records:\n",
        "        try:\n",
        "            server = smtplib.SMTP(mx)\n",
        "            server.set_debuglevel(0)  # Defina para 1 se quiser ver a comunicação SMTP\n",
        "            server.ehlo_or_helo_if_needed()\n",
        "            server.mail(sender_email)\n",
        "            code, message = server.rcpt(test_email)\n",
        "            server.quit()\n",
        "\n",
        "            if code == 250:\n",
        "                print(f\"O domínio {domain} possui um catch-all configurado.\")\n",
        "                return True\n",
        "        except smtplib.SMTPServerDisconnected:\n",
        "            pass\n",
        "        except smtplib.SMTPConnectError:\n",
        "            pass\n",
        "        except smtplib.SMTPRecipientsRefused:\n",
        "            pass\n",
        "        except Exception as e:\n",
        "            print(f\"Erro ao verificar o domínio {domain}: {e}\")\n",
        "            return False\n",
        "\n",
        "    print(f\"O domínio {domain} não possui um catch-all configurado.\")\n",
        "    return False"
      ],
      "metadata": {
        "id": "Y_yzZG-CUg9x"
      },
      "execution_count": 14,
      "outputs": []
    },
    {
      "cell_type": "code",
      "source": [
        "# Exemplo de uso\n",
        "domain = \"gmail.com\"\n",
        "catch_all = check_catch_all(domain)\n",
        "print(f\"Catch-all configurado para {domain}? {catch_all}\")"
      ],
      "metadata": {
        "id": "A9ATKplFL9Ir",
        "outputId": "36db9ae2-849d-4ec7-e883-4fc7040b6df2",
        "colab": {
          "base_uri": "https://localhost:8080/"
        }
      },
      "execution_count": 15,
      "outputs": [
        {
          "output_type": "stream",
          "name": "stdout",
          "text": [
            "O domínio gmail.com não possui um catch-all configurado.\n",
            "Catch-all configurado para gmail.com? False\n"
          ]
        }
      ]
    },
    {
      "cell_type": "markdown",
      "source": [
        "# **5. Ping do endereço de e-mail:**\n",
        "**Ferramentas:**\n",
        "\n",
        "*   dnspython\n",
        "*   smtplib"
      ],
      "metadata": {
        "id": "PtsAzeNXUl09"
      }
    },
    {
      "cell_type": "code",
      "source": [
        "def ping_email_address(email):\n",
        "    domain = email.split('@')[1]\n",
        "    mx_records = get_mx_records(domain)\n",
        "    if not mx_records:\n",
        "        print(f\"Não foi possível encontrar registros MX para o domínio: {domain}\")\n",
        "        return False\n",
        "\n",
        "    test_email = email\n",
        "    sender_email = \"test@example.com\"  # Pode ser qualquer endereço válido\n",
        "\n",
        "    for mx in mx_records:\n",
        "        try:\n",
        "            # Conectar ao servidor SMTP\n",
        "            server = smtplib.SMTP(mx, timeout=10)\n",
        "            server.set_debuglevel(0)  # Defina para 1 se quiser ver a comunicação SMTP\n",
        "            server.helo()\n",
        "            server.mail(sender_email)\n",
        "            code, message = server.rcpt(test_email)\n",
        "            server.quit()\n",
        "\n",
        "            if code == 250:\n",
        "                print(f\"O e-mail {email} parece ser válido.\")\n",
        "                return True\n",
        "            else:\n",
        "                print(f\"O e-mail {email} não parece ser válido. Código de resposta: {code}\")\n",
        "                return False\n",
        "        except smtplib.SMTPConnectError:\n",
        "            print(f\"Erro ao conectar com o servidor de e-mail {mx}.\")\n",
        "        except Exception as e:\n",
        "            print(f\"Erro ao verificar o e-mail {email}: {e}\")\n",
        "\n",
        "    print(f\"Não foi possível verificar o e-mail {email}.\")\n",
        "    return False\n"
      ],
      "metadata": {
        "id": "omRVCNucUnIz"
      },
      "execution_count": 16,
      "outputs": []
    },
    {
      "cell_type": "code",
      "source": [
        "# Exemplo de uso\n",
        "email = \"felipedata20@gmail.com\"\n",
        "is_valid = ping_email_address(email)\n",
        "print(f\"Endereço de e-mail {email} é válido? {is_valid}\")"
      ],
      "metadata": {
        "id": "ajJMeWJwNHp2",
        "outputId": "5ef77598-7b26-4a98-e512-15b0d80deb42",
        "colab": {
          "base_uri": "https://localhost:8080/"
        }
      },
      "execution_count": 17,
      "outputs": [
        {
          "output_type": "stream",
          "name": "stdout",
          "text": [
            "O e-mail felipedata20@gmail.com parece ser válido.\n",
            "Endereço de e-mail felipedata20@gmail.com é válido? True\n"
          ]
        }
      ]
    },
    {
      "cell_type": "markdown",
      "source": [
        "# **Futuras melhorias:**\n"
      ],
      "metadata": {
        "id": "6h30NLJI83sQ"
      }
    },
    {
      "cell_type": "markdown",
      "source": [
        "# **Documentações:**\n",
        "\n",
        "*   itertools: https://docs.python.org/3/library/itertools.html#itertools.count\n",
        "*   dsnpython: https://dnspython.readthedocs.io/en/latest/\n",
        "\n"
      ],
      "metadata": {
        "id": "2X4VPft2OcCF"
      }
    },
    {
      "cell_type": "markdown",
      "source": [
        "## Referências:\n",
        "* Principal Artigo de referência:\n",
        "\n",
        " https://snov.io/blog/br/verificacao-de-email-explicada/\n",
        "*   Plataforma de validação de email que inspirou o projeto:\n",
        "\n",
        " https://snov.io/br/verificador-de-emails\n",
        "*  Entendendo DNS:\n",
        "\n",
        " https://support.google.com/a/answer/48090?hl=pt-BR#:~:text=voltar%20ao%20in%C3%ADcio-,Registro%20MX,de%20e%2Dmail%20do%20Google.\n",
        "*   Status de email:\n",
        "\n",
        " https://snov.io/knowledgebase/email-statuses/\n",
        "\n",
        "*   Definições de leads:\n",
        "\n",
        " https://fleeg.com/blog/inbound-marketing/leads/?origin=fleeg_snovio_link_backlink&utm_source=Snovio&utm_medium=link&utm_campaign=backlink\n",
        "*   Verificação sintaxe:\n",
        "\n",
        " https://en.wikipedia.org/wiki/Email_address#Local-part\n",
        "\n",
        " https://en.wikipedia.org/wiki/Octet_(computing)\n",
        "\n",
        " https://www.youtube.com/watch?v=WkNBhYMUXwI\n",
        "*   Envio de email SMTP:\n",
        "\n",
        " https://www.youtube.com/watch?v=umvzsQLZYD4\n",
        "*   Verificação TLD/MX record/Sintaxe:\n",
        "\n",
        " https://www.youtube.com/watch?v=Bj61jJo2Mvs\n",
        "*   Item da lista\n",
        "*   Item da lista\n",
        "\n",
        "\n",
        "\n"
      ],
      "metadata": {
        "id": "ERe5BAiAQEXZ"
      }
    }
  ]
}