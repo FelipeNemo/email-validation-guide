{
  "nbformat": 4,
  "nbformat_minor": 0,
  "metadata": {
    "colab": {
      "provenance": [],
      "authorship_tag": "ABX9TyMt0ZO6wegBtYDj0qkHMR7V",
      "include_colab_link": true
    },
    "kernelspec": {
      "name": "python3",
      "display_name": "Python 3"
    },
    "language_info": {
      "name": "python"
    }
  },
  "cells": [
    {
      "cell_type": "markdown",
      "metadata": {
        "id": "view-in-github",
        "colab_type": "text"
      },
      "source": [
        "<a href=\"https://colab.research.google.com/github/FelipeNemo/email-validation-guide/blob/domain-verifier/emailvalidation.ipynb\" target=\"_parent\"><img src=\"https://colab.research.google.com/assets/colab-badge.svg\" alt=\"Open In Colab\"/></a>"
      ]
    },
    {
      "cell_type": "markdown",
      "source": [
        "# **Sistema de Validação de Email para prevenção de fraude**\n",
        "\n",
        "**Autores:** Felipe Augusto Batista Mendes dos Santos\n",
        "\n"
      ],
      "metadata": {
        "id": "nczBkBffUs0L"
      }
    },
    {
      "cell_type": "markdown",
      "source": [
        "Este sistema atende à necessidade de validação de e-mails para aumentar a eficiência e a segurança das transações online, utilizando um pipeline de processamento. Ele visa usar o status de classificação de validade para a tomada de decisões.\n",
        "\n",
        "* **Input:** Dados estruturados\n",
        "* **Output:** Status de classificação de e-mail"
      ],
      "metadata": {
        "id": "pFsnY1Va9qZr"
      }
    },
    {
      "cell_type": "markdown",
      "source": [
        "# Verificação de Email\n",
        "Verificação de um endereço de email existente e ativo, ou seja, válido. Um email válido pode receber mensagens de outros remetentes. São responsáveis por executar uma etapa do **PROCESSO DE VERIFICAÇÃO**, como por exemplo:\n",
        "* Verificações de sintaxe\n",
        "* Domínio\n",
        "* Catch-all\n",
        "* Registro MX\n",
        "* Ping de endereço de e-mail\n",
        "\n",
        "# Validação de email\n",
        "É o resultado final do processo de verificação de email. Às vezes, a validação também implica na verificação de qualquer informação adicional que vem com o e-mail do lead ou na verificação da origem desse lead.\n",
        "\n",
        "* “Não verificado” ⭕ - antes do processo de verificação.\n",
        "\n",
        "* “Válido” 🟢 – significa que um e-mail está correto e existe.\n",
        "\n",
        "* “Inválido” 🟡 -  significa que esse endereço de e-mail pode receber mensagens, mas devido a uma configuração em todo o domínio, não é possível determinar a sua validade real, assim ele é marcado como Não verificável. Esses e-mails também são conhecidos como e-mails “pegam tudo” ou “aceitam tudo”.\n",
        "\n",
        "* “Não verificável” 🔴 – significa que um endereço de e-mail não existe ou não está mais ativo.\n",
        "\n",
        "*  “Não é possível encontrar o e-mail” ⚪ - clientes potenciais com informações pessoais, como fotos ou experiência profissional etc., no entanto, não há endereço de e-mail."
      ],
      "metadata": {
        "id": "MbbML_rbPU_S"
      }
    },
    {
      "cell_type": "markdown",
      "source": [
        "# Para que verificar emails?\n",
        "\n",
        "1.    Manter listas de e-mail atualizadas\n",
        "2.    Reduz hard bounces\n",
        "3.    Melhora a capacidade de entrega de e-mail\n",
        "4.    Mantém a reputação do remetente elevada\n",
        "4.    Prevenção de ataque de fraude\n",
        "\n",
        "\n",
        "\n",
        "\n",
        "\n",
        "\n",
        "\n",
        "\n"
      ],
      "metadata": {
        "id": "YsHwr_vuRHAi"
      }
    },
    {
      "cell_type": "markdown",
      "source": [
        "# Como funciona um verificador de e-mail:\n",
        "1.   Verificação de sintaxe\n",
        "2.   Verificação de jargão\n",
        "3.   Verificação de existência de domínio\n",
        "4.   Verificação de registro MX\n",
        "5.   Verificação de domínio catch-all\n",
        "6.   Autenticação SMTP (ping de endereço de e-mail)\n",
        "7.   Verificação de freemail\n",
        "\n",
        "\n"
      ],
      "metadata": {
        "id": "PuN7fpiDSVFy"
      }
    },
    {
      "cell_type": "markdown",
      "source": [
        "# **Install:**"
      ],
      "metadata": {
        "id": "3Fn8Slf3Mzuh"
      }
    },
    {
      "cell_type": "code",
      "source": [
        "!pip install dnspython requests\n"
      ],
      "metadata": {
        "id": "wj7CPAfaM327",
        "outputId": "dc13fe29-bc34-4238-ec2f-37287edc9614",
        "colab": {
          "base_uri": "https://localhost:8080/"
        }
      },
      "execution_count": 12,
      "outputs": [
        {
          "output_type": "stream",
          "name": "stdout",
          "text": [
            "Collecting dnspython\n",
            "  Downloading dnspython-2.6.1-py3-none-any.whl.metadata (5.8 kB)\n",
            "Requirement already satisfied: requests in /usr/local/lib/python3.10/dist-packages (2.31.0)\n",
            "Requirement already satisfied: charset-normalizer<4,>=2 in /usr/local/lib/python3.10/dist-packages (from requests) (3.3.2)\n",
            "Requirement already satisfied: idna<4,>=2.5 in /usr/local/lib/python3.10/dist-packages (from requests) (3.7)\n",
            "Requirement already satisfied: urllib3<3,>=1.21.1 in /usr/local/lib/python3.10/dist-packages (from requests) (2.0.7)\n",
            "Requirement already satisfied: certifi>=2017.4.17 in /usr/local/lib/python3.10/dist-packages (from requests) (2024.7.4)\n",
            "Downloading dnspython-2.6.1-py3-none-any.whl (307 kB)\n",
            "\u001b[?25l   \u001b[90m━━━━━━━━━━━━━━━━━━━━━━━━━━━━━━━━━━━━━━━━\u001b[0m \u001b[32m0.0/307.7 kB\u001b[0m \u001b[31m?\u001b[0m eta \u001b[36m-:--:--\u001b[0m\r\u001b[2K   \u001b[90m━━━━━━━━━━━━━━━━━━━━━━━━━━━━━━━━━━━━━━━━\u001b[0m \u001b[32m307.7/307.7 kB\u001b[0m \u001b[31m15.8 MB/s\u001b[0m eta \u001b[36m0:00:00\u001b[0m\n",
            "\u001b[?25hInstalling collected packages: dnspython\n",
            "Successfully installed dnspython-2.6.1\n"
          ]
        }
      ]
    },
    {
      "cell_type": "markdown",
      "source": [
        "# **Importações:**"
      ],
      "metadata": {
        "id": "hdOGPg8yKvk6"
      }
    },
    {
      "cell_type": "code",
      "source": [
        "import csv\n",
        "from functools import reduce\n",
        "from itertools import *\n",
        "import dns.resolver # modulo de dnspython\n",
        "import requests"
      ],
      "metadata": {
        "id": "f5hbnaLUKvGN"
      },
      "execution_count": 13,
      "outputs": []
    },
    {
      "cell_type": "markdown",
      "source": [
        "# **Leitura .csv**"
      ],
      "metadata": {
        "id": "4wHv8Lr1ZmQh"
      }
    },
    {
      "cell_type": "code",
      "source": [
        "def mostra_dados(titulo, nome_arq, f, *args):\n",
        "    \"\"\"\n",
        "    Função auxiliar para mostrar o resultado da execução de uma função do paradigma funcional.\n",
        "    A função abre um arquivo CSV e passa para função do paradigma funcional um objeto DictReader e\n",
        "    depois mostra o resultado na tela.\n",
        "    \"\"\"\n",
        "    print(\"|___   \", titulo, \"  ___|\")\n",
        "    with open(nome_arq, \"r\", encoding='utf-8-sig') as arq:\n",
        "        dados = csv.DictReader(arq, delimiter=',')\n",
        "        fdados = f(dados, *args)\n",
        "        try:\n",
        "            iterator = iter(fdados)\n",
        "        except TypeError:\n",
        "            print(fdados)\n",
        "        else:\n",
        "            for linha in fdados:\n",
        "                print(linha)\n",
        "\n",
        "def retorna_dados(nome_arq):\n",
        "    \"\"\"\n",
        "    Função auxiliar que retorna os dados em formato de um objeto DictReader após a leitura de um arquivo!\n",
        "    \"\"\"\n",
        "    with open(nome_arq, \"r\", encoding='utf-8-sig') as arq:\n",
        "        dados = csv.DictReader(arq, delimiter=',')\n",
        "        for linha in dados:\n",
        "            for chave, valor in linha.items():\n",
        "                linha[chave] = valor.strip()  # reassign\n",
        "            yield linha\n",
        "\n",
        "def salvar_dados(nome_arq, new_file, f):\n",
        "    \"\"\"\n",
        "    Função auxiliar que chama uma função do paradigma funcional e depois salva o resultado em um arquivo CSV!\n",
        "    A função abre um arquivo CSV e passa para função do paradigma funcional um objeto DictReader e\n",
        "    depois salva a saída em um arquivo CSV\n",
        "    \"\"\"\n",
        "    with open(nome_arq, \"r\", encoding='utf-8-sig') as arq:\n",
        "        dados=csv.DictReader(arq, delimiter=',')\n",
        "        fdados = list(f(dados))\n",
        "        fieldnames = fdados[0].keys()\n",
        "\n",
        "    with open(new_file, \"w\", encoding='utf-8-sig') as arq:\n",
        "        try:\n",
        "            iterator=iter(fdados)\n",
        "        except TypeError:\n",
        "            return false\n",
        "        else:\n",
        "            writer = csv.DictWriter(arq, fieldnames=fieldnames)\n",
        "            writer.writeheader()\n",
        "            for i in fdados:\n",
        "                writer.writerow(i)"
      ],
      "metadata": {
        "id": "e1NIQyVsZluV"
      },
      "execution_count": 1,
      "outputs": []
    },
    {
      "cell_type": "markdown",
      "source": [
        "# **1. Verificação de sintaxe:**\n",
        "**Ferramentas:**  \n",
        "\n",
        "*   Python\n",
        "\n",
        "## **Correspondência de padrão de email:**\n",
        "\n",
        "> < local-part@domain >\n",
        "\n",
        "1. **local-part** -  Pode ter até 64 octetos de comprimento, disposição de pontos e caracteres especiais.\n",
        "\n",
        "2. **@** - Deve conter apenas 1 elemento \"@\"em todo o e-mail\n",
        "\n",
        "3. **domain** -  Pode ter no máximo 255 octetos e deve conter apenas 1 \".\"\n",
        "\n"
      ],
      "metadata": {
        "id": "VGafA2GKUBFa"
      }
    },
    {
      "cell_type": "markdown",
      "source": [
        "### **1.1 Local-part:**\n",
        "**Ferramentas:**\n",
        "\n",
        "*   dnspython\n",
        " **Disposição de bytes:**\n",
        "*  64 octetos de comprimento\n",
        "\n",
        "**Disposição geral de pontos:**\n",
        "\n",
        " Não é permitido que seja o primeiro ou o último caractere, e que também apareça consecutivamente\n",
        "\n",
        "* **Caracteres especiais:**\n",
        "\n",
        "> \"() , : ; < > @ [ \\ ]\n",
        "\n",
        "  -  São permitidos com restrições(somente dentro de uma string entre aspas e nessa string entre aspas, qualquer barra invertida ou aspas duplas deve ser precedida uma vez por uma barra invertida)\n",
        "   \n",
        "   Exemplo:\n",
        "   \n",
        "   john.smith(comment)@example.come e (comment)john.smith@example.com são ambos equivalentes a john.smith@example.com"
      ],
      "metadata": {
        "id": "S94eeC5xu31Q"
      }
    },
    {
      "cell_type": "code",
      "source": [
        "#Constantes:\n",
        "CARACTERES_ESPECIAIS = { \"(\", \")\", \",\", \":\", \";\", \"<\", \">\", \"@\", \"[\", \"]\" }"
      ],
      "metadata": {
        "id": "wBw3YFYvne39"
      },
      "execution_count": 8,
      "outputs": []
    },
    {
      "cell_type": "code",
      "source": [
        "\n",
        "def local_sintax(local):\n",
        "    print(f\"Verificando parte local: {local}\")\n",
        "    # Verifica o comprimento da parte local\n",
        "    if len(local.encode('utf-8')) > 64:\n",
        "        print(\"Falhou: comprimento maior que 64 bytes\")\n",
        "        return False\n",
        "\n",
        "    # Verifica a disposição de pontos na parte local\n",
        "    if local.startswith('.') or local.endswith('.'):\n",
        "        print(\"Falhou: começa ou termina com '.'\")\n",
        "        return False\n",
        "    if '..' in local:\n",
        "        print(\"Falhou: contém '..'\")\n",
        "        return False\n",
        "\n",
        "    # Verifica a presença de caracteres especiais na parte local\n",
        "    if any(char in CARACTERES_ESPECIAIS for char in local):\n",
        "        if not (local.startswith('\"') and local.endswith('\"')):\n",
        "            print(\"Falhou: contém caracteres especiais fora de aspas\")\n",
        "            return False\n",
        "        for i, char in enumerate(local):\n",
        "            if char in CARACTERES_ESPECIAIS:\n",
        "                if i == 0 or i == len(local) - 1 or local[i - 1] != '\\\\':\n",
        "                    print(\"Falhou: caracteres especiais não escapados\")\n",
        "                    return False\n",
        "    return True"
      ],
      "metadata": {
        "id": "VYRg9cPXPkC7"
      },
      "execution_count": 4,
      "outputs": []
    },
    {
      "cell_type": "markdown",
      "source": [
        "### **1.2 Domain**\n",
        "**Ferramentas:**  \n",
        "\n",
        "*   Python\n",
        "\n",
        " **Disposição de bytes:**\n",
        "* 255 octetos de comprimento\n",
        "\n",
        "**Disposição geral de pontos:**\n",
        "  \n",
        "* Deve conter apenas 1 \".\" :"
      ],
      "metadata": {
        "id": "EgAN818RvGpw"
      }
    },
    {
      "cell_type": "code",
      "source": [
        "def domain_sintax(domain):\n",
        "    print(f\"Verificando parte do domínio: {domain}\")\n",
        "    # Verifica o comprimento da parte do domínio\n",
        "    if len(domain.encode('utf-8')) > 255:\n",
        "        print(\"Falhou: comprimento maior que 255 bytes\")\n",
        "        return False\n",
        "\n",
        "    # Verifica se o domínio contém pelo menos um \".\"\n",
        "    if '.' not in domain:\n",
        "        print(\"Falhou: não contém '.'\")\n",
        "        return False\n",
        "\n",
        "    return True"
      ],
      "metadata": {
        "id": "bsoazTRovOqX"
      },
      "execution_count": 3,
      "outputs": []
    },
    {
      "cell_type": "markdown",
      "source": [
        "### **Conclusão:**"
      ],
      "metadata": {
        "id": "rbVcG8Z3wN-v"
      }
    },
    {
      "cell_type": "code",
      "source": [
        "def verificador_sintax(email, local_sintax, domain_sintax):\n",
        "    # Verifica se contém exatamente um \"@\"\n",
        "    if email.count('@') != 1:\n",
        "        print(\"Falhou: não contém exatamente um '@'\")\n",
        "        return False\n",
        "\n",
        "    local, domain = email.split('@')\n",
        "\n",
        "    # Verificação da parte local\n",
        "    if not local_sintax(local):\n",
        "        print(\"Falhou: verificação da parte local\")\n",
        "        return False\n",
        "\n",
        "    # Verificação da parte do domínio\n",
        "    if not domain_sintax(domain):\n",
        "        print(\"Falhou: verificação da parte do domínio\")\n",
        "        return False\n",
        "\n",
        "    return True\n",
        "\n"
      ],
      "metadata": {
        "id": "oFUnWbBSyGHE"
      },
      "execution_count": 5,
      "outputs": []
    },
    {
      "cell_type": "code",
      "source": [
        "# Teste do email\n",
        "email = \"john.smith@example.com\"\n",
        "resultado = verificador_sintax(email, local_sintax, domain_sintax)\n",
        "print(f\"O email '{email}' é válido? {resultado}\")"
      ],
      "metadata": {
        "id": "h6b_pmelLaYw",
        "outputId": "117fc248-fae9-4c31-aae8-c0662714b597",
        "colab": {
          "base_uri": "https://localhost:8080/"
        }
      },
      "execution_count": 9,
      "outputs": [
        {
          "output_type": "stream",
          "name": "stdout",
          "text": [
            "Verificando parte local: john.smith\n",
            "Verificando parte do domínio: example.com\n",
            "O email 'john.smith@example.com' é válido? True\n"
          ]
        }
      ]
    },
    {
      "cell_type": "markdown",
      "source": [
        "# **2. Verificação de domínio:**\n",
        "**Ferramentas:**\n",
        "\n",
        "*   dnspython\n"
      ],
      "metadata": {
        "id": "5dl0DT8JUDnU"
      }
    },
    {
      "cell_type": "code",
      "source": [
        "# Função para verificar se o domínio existe\n",
        "def check_domain_exists(domain):\n",
        "    try:\n",
        "        # Verifica registros DNS\n",
        "        dns.resolver.resolve(domain, 'A')\n",
        "        return True\n",
        "    except (dns.resolver.NXDOMAIN, dns.resolver.NoAnswer, dns.resolver.Timeout):\n",
        "        return False\n",
        "\n",
        "# Função para verificar se o domínio está ativo\n",
        "def check_domain_active(domain):\n",
        "    try:\n",
        "        # Faz uma requisição HTTP ao domínio\n",
        "        response = requests.get(f\"http://{domain}\", timeout=5)\n",
        "        return response.status_code == 200\n",
        "    except requests.RequestException:\n",
        "        return False\n",
        "\n",
        "# Exemplo de uso\n",
        "domain = \"gmail.com\"\n",
        "exists = check_domain_exists(domain)\n",
        "active = check_domain_active(domain)\n",
        "\n",
        "print(f\"O domínio '{domain}' existe? {exists}\")\n",
        "print(f\"O domínio '{domain}' está ativo? {active}\")"
      ],
      "metadata": {
        "id": "3_AruF4GUL5v",
        "outputId": "897a875d-b5bb-4b2b-ac8d-74427bc035d2",
        "colab": {
          "base_uri": "https://localhost:8080/"
        }
      },
      "execution_count": 15,
      "outputs": [
        {
          "output_type": "stream",
          "name": "stdout",
          "text": [
            "O domínio 'gmail.com' existe? True\n",
            "O domínio 'gmail.com' está ativo? True\n"
          ]
        }
      ]
    },
    {
      "cell_type": "markdown",
      "source": [
        "# **3.Verificação catch-all**\n",
        "**Ferramentas:**\n",
        "\n",
        "*   dnspython"
      ],
      "metadata": {
        "id": "3-f8IV1aUOVc"
      }
    },
    {
      "cell_type": "code",
      "source": [],
      "metadata": {
        "id": "TRiIoYsuUPvS"
      },
      "execution_count": null,
      "outputs": []
    },
    {
      "cell_type": "markdown",
      "source": [
        "# **4. Verificação do registro MX:**\n",
        "**Ferramentas:**\n",
        "\n",
        "*   dnspython"
      ],
      "metadata": {
        "id": "cDgew-pDUQei"
      }
    },
    {
      "cell_type": "code",
      "source": [],
      "metadata": {
        "id": "Y_yzZG-CUg9x"
      },
      "execution_count": null,
      "outputs": []
    },
    {
      "cell_type": "markdown",
      "source": [
        "# **5. Ping do endereço de e-mail:**\n",
        "**Ferramentas:**\n",
        "\n",
        "*   dnspython"
      ],
      "metadata": {
        "id": "PtsAzeNXUl09"
      }
    },
    {
      "cell_type": "code",
      "source": [],
      "metadata": {
        "id": "omRVCNucUnIz"
      },
      "execution_count": null,
      "outputs": []
    },
    {
      "cell_type": "markdown",
      "source": [
        "# **Futuras melhorias:**\n"
      ],
      "metadata": {
        "id": "6h30NLJI83sQ"
      }
    },
    {
      "cell_type": "markdown",
      "source": [
        "# **Documentações:**\n",
        "\n",
        "*   intertools: https://docs.python.org/3/library/itertools.html#itertools.count\n",
        "*   dsnpython: https://dnspython.readthedocs.io/en/latest/\n",
        "\n"
      ],
      "metadata": {
        "id": "2X4VPft2OcCF"
      }
    },
    {
      "cell_type": "markdown",
      "source": [
        "## Referências:\n",
        "* Principal Artigo de referência:\n",
        "\n",
        " https://snov.io/blog/br/verificacao-de-email-explicada/\n",
        "*   Plataforma de validação de email que inspirou o projeto:\n",
        "\n",
        " https://snov.io/br/verificador-de-emails\n",
        "*  Entendendo DNS:\n",
        "\n",
        " https://support.google.com/a/answer/48090?hl=pt-BR#:~:text=voltar%20ao%20in%C3%ADcio-,Registro%20MX,de%20e%2Dmail%20do%20Google.\n",
        "*   Status de email:\n",
        "\n",
        " https://snov.io/knowledgebase/email-statuses/\n",
        "\n",
        "*   Definições de leads:\n",
        "\n",
        " https://fleeg.com/blog/inbound-marketing/leads/?origin=fleeg_snovio_link_backlink&utm_source=Snovio&utm_medium=link&utm_campaign=backlink\n",
        "*   Verificação sintaxe:\n",
        "\n",
        " https://en.wikipedia.org/wiki/Email_address#Local-part\n",
        "\n",
        " https://en.wikipedia.org/wiki/Octet_(computing)\n",
        "\n",
        " https://www.youtube.com/watch?v=WkNBhYMUXwI\n",
        "*   Envio de email SMTP:\n",
        "\n",
        " https://www.youtube.com/watch?v=umvzsQLZYD4\n",
        "*   Verificação TLD/MX record/Sintaxe:\n",
        "\n",
        " https://www.youtube.com/watch?v=Bj61jJo2Mvs\n",
        "*   Item da lista\n",
        "*   Item da lista\n",
        "\n",
        "\n",
        "\n"
      ],
      "metadata": {
        "id": "ERe5BAiAQEXZ"
      }
    }
  ]
}